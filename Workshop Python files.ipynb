{
 "cells": [
  {
   "cell_type": "markdown",
   "metadata": {},
   "source": [
    "## Name: Sadnan Saquif\n",
    "## Handle: SSaquif"
   ]
  },
  {
   "cell_type": "markdown",
   "metadata": {},
   "source": [
    "# Safe dict reading\n",
    "\n",
    "define a function `safe_dict(d, k)` that takes in a python dict `d` and a key `k` and makes it safe to read even with keys that aren't in the dictionary. If you try to read from the dictionary with a bad key, it should return 0 instead.\n",
    "\n",
    "```\n",
    "d = {1 : 2, 3 : 4}\n",
    "safe_dict(d, 1) -> 2\n",
    "safe_dict(d, 'cat') -> 0\n",
    "```"
   ]
  },
  {
   "cell_type": "code",
   "execution_count": 1,
   "metadata": {},
   "outputs": [],
   "source": [
    "safe_dict = lambda d, key: d[key] if key in d else 0\n",
    "\n",
    "d = {1 : 2, 3 : 4}\n",
    "\n",
    "print(safe_dict(d, 1))\n",
    "print(safe_dict(d, 'cat'))"
   ]
  },
  {
   "cell_type": "markdown",
   "metadata": {
    "colab": {},
    "colab_type": "code",
    "id": "tl_ZhkbEtiTD"
   },
   "source": [
    "# File Reading: Hamlet Exercises\n",
    "\n",
    "Open `hamlet.txt` in the `data` folder\n",
    "\n",
    "### 1. Mentionned Hamlet\n",
    "\n",
    "How many times is hamlet mentioned in the book?\n",
    "\n",
    "Use python and line iteration to count it up"
   ]
  },
  {
   "cell_type": "markdown",
   "metadata": {},
   "source": [
    "### hamlet.txt needs encoding='utf-8-sig', or else I get /ufeff as the starting character"
   ]
  },
  {
   "cell_type": "code",
   "execution_count": 2,
   "metadata": {},
   "outputs": [],
   "source": [
    "def hamlets_in_file(file):\n",
    "    # Using with will close the file once it reaches EOF\n",
    "    with open(file, 'r', encoding='utf-8-sig') as buffer:\n",
    "        data = buffer.read()\n",
    "    \n",
    "    # Checking if file is closed    \n",
    "    print(buffer.closed)\n",
    "    hamlet_count = data.lower().count(\"hamlet\")\n",
    "    return hamlet_count\n",
    "\n",
    "hamlets_in_file('./data/hamlet.txt')"
   ]
  },
  {
   "cell_type": "markdown",
   "metadata": {},
   "source": [
    "### 2. File Reading as a .py program\n",
    "\n",
    "Make a python file that defines a function that counts the number of times hamlet is mentionned using the code in the previous exercise.\n",
    "\n",
    "Then import it in your notebook and call it here."
   ]
  },
  {
   "cell_type": "code",
   "execution_count": 3,
   "metadata": {},
   "outputs": [],
   "source": [
    "# Using file.write()\n",
    "def create_py_file(file):\n",
    "    # 'w' overwites existing content \n",
    "    with open(file, 'w') as buffer:\n",
    "        buffer.write(\n",
    "\"\"\"\n",
    "def hamlets_in_file(file):\n",
    "    with open(file, 'r', encoding='utf-8-sig') as buffer:\n",
    "        data = buffer.read()\n",
    "\n",
    "    return data.lower().count(\"hamlet\")\n",
    "\"\"\"\n",
    "        )\n",
    "\n",
    "# dont want to run again since the file exists\n",
    "create_py_file('./hamlet_count.py')"
   ]
  },
  {
   "cell_type": "code",
   "execution_count": 4,
   "metadata": {},
   "outputs": [
    {
     "data": {
      "text/plain": [
       "474"
      ]
     },
     "execution_count": 4,
     "metadata": {},
     "output_type": "execute_result"
    }
   ],
   "source": [
    "from hamlet_count import hamlets_in_file\n",
    "\n",
    "hamlets_in_file('./data/hamlet.txt')"
   ]
  },
  {
   "cell_type": "markdown",
   "metadata": {},
   "source": [
    "### 3. Unique words in hamlet\n",
    "\n",
    "Write a program that counts the unique words in hamlet."
   ]
  },
  {
   "cell_type": "code",
   "execution_count": 5,
   "metadata": {},
   "outputs": [
    {
     "name": "stdout",
     "output_type": "stream",
     "text": [
      "Unique Words: 4930\n"
     ]
    }
   ],
   "source": [
    "import re\n",
    "\n",
    "# Going to re-use this later\n",
    "# So returning a set of unique words\n",
    "def unique_words():\n",
    "    '''\n",
    "    Splitting on space, newline and punctuations and special characters>\n",
    "    Probably fewer words in reality.\n",
    "    Haven't considered plurals or possesive nouns, other special characters etc\n",
    "    '''\n",
    "    with open('./data/hamlet.txt','r', encoding='utf-8-sig') as buffer:\n",
    "        data = buffer.read()\n",
    "\n",
    "    #Splitting words\n",
    "    words = re.split('[ ,.?!;:_\\n]', data.lower())\n",
    "        \n",
    "    unique_words = list(set(words))\n",
    "#     print(unique_words)\n",
    "    return unique_words\n",
    "\n",
    "print(f\"Unique Words: {len(unique_words())}\")"
   ]
  },
  {
   "cell_type": "markdown",
   "metadata": {},
   "source": [
    "# File Reading 2: A Python library.\n",
    "\n",
    "In the `data` folder, you will find a folder called `csrgraph` which is a python library.\n",
    "\n",
    "### 1. File count\n",
    "\n",
    "Count the `py` files in the library using the `os` package"
   ]
  },
  {
   "cell_type": "code",
   "execution_count": 6,
   "metadata": {},
   "outputs": [
    {
     "name": "stdout",
     "output_type": "stream",
     "text": [
      "8\n"
     ]
    }
   ],
   "source": [
    "import os\n",
    "\n",
    "def pyfiles(directory):\n",
    "    file_list = os.listdir(directory)\n",
    "    py_files = []\n",
    "    count = 0\n",
    "    for file in file_list:\n",
    "        if file.endswith('.py'):\n",
    "            py_files.append(file)\n",
    "    return py_files\n",
    "\n",
    "file_list = pyfiles('./data/csrgraph/')\n",
    "print(len(file_list))"
   ]
  },
  {
   "cell_type": "markdown",
   "metadata": {},
   "source": [
    "### 2. For the following packages, count the number of files that import them:\n",
    "\n",
    "- pandas \n",
    "\n",
    "- numpy\n",
    "\n",
    "- numba"
   ]
  },
  {
   "cell_type": "code",
   "execution_count": 7,
   "metadata": {},
   "outputs": [
    {
     "name": "stdout",
     "output_type": "stream",
     "text": [
      "Pattern 1 <re.Match object; span=(0, 15), match='import   numpy\\n'>\n",
      "Pattern 2 <re.Match object; span=(0, 29), match='import numpy     as     n_p \\n'>\n",
      "Pattern 3 <re.Match object; span=(0, 26), match='from numpy import number \\n'>\n"
     ]
    }
   ],
   "source": [
    "# Regex Testing\n",
    "module = \"numpy\"\n",
    "inp_1 = 'import   numpy\\n'\n",
    "\n",
    "inp_2 = 'import numpy     as     n_p \\n'\n",
    "\n",
    "inp_3 = 'from numpy import number \\n'\n",
    "\n",
    "# [ ]+ = 1 or more space\n",
    "# [ ]* = 0 or more space\n",
    "pattern_1 = f\"(import)[ ]+({module})[ ]*\\n\"\n",
    "pattern_2 = f\"(import)[ ]+({module})[ ]+(as)[ ]+[a-zA-Z0-9_]+[ ]*\\n\"\n",
    "pattern_3 = f\"(from)[ ]+({module} import)[ ]+[a-zA-Z0-9_*]+[ ]*\\n\"\n",
    "\n",
    "print(f\"Pattern 1 {re.search(pattern_1,inp_1)}\")\n",
    "print(f\"Pattern 2 {re.search(pattern_2,inp_2)}\")\n",
    "print(f\"Pattern 3 {re.search(pattern_3,inp_3)}\")\n",
    "\n",
    "# print(pattern_1)\n",
    "# print(inp1)"
   ]
  },
  {
   "cell_type": "code",
   "execution_count": 8,
   "metadata": {},
   "outputs": [
    {
     "name": "stdout",
     "output_type": "stream",
     "text": [
      "pandas: 4\n",
      "numpy: 6\n",
      "numba: 6\n"
     ]
    }
   ],
   "source": [
    "def module_in_files(directory, module):\n",
    "    # Only check the python files in directory\n",
    "    py_files = pyfiles(directory)\n",
    "    \n",
    "    used = 0\n",
    "    \n",
    "    pattern_1 = f\"(import)[ ]+({module})[ ]*\\n\"\n",
    "    pattern_2 = f\"(import)[ ]+({module})[ ]+(as)[ ]+[a-zA-Z0-9_]+[ ]*\\n\"\n",
    "    pattern_3 = f\"(from)[ ]+({module} import)[ ]+[a-zA-Z0-9_*]+[ ]*\\n\"\n",
    "        \n",
    "    for file in py_files:\n",
    "        with open(f\"{directory}/{file}\", 'r') as buffer:\n",
    "            data = buffer.read()\n",
    "            re_1 = re.search(pattern_1, data)\n",
    "            re_2 = re.search(pattern_2, data)\n",
    "            re_3 = re.search(pattern_3, data)\n",
    "\n",
    "            if  re_1 or re_2 or re_3:\n",
    "                used += 1\n",
    "                \n",
    "    return used\n",
    "    \n",
    "print(f\"pandas: {module_in_files('./data/csrgraph/', 'pandas')}\")\n",
    "print(f\"numpy: {module_in_files('./data/csrgraph/', 'numpy')}\")\n",
    "print(f\"numba: {module_in_files('./data/csrgraph/', 'numba')}\")"
   ]
  },
  {
   "cell_type": "markdown",
   "metadata": {},
   "source": [
    "# First NLP Program: IDF\n",
    "\n",
    "Given a list of words, the the inverse document frequency (IDF) is a basic statistic of the amount of information of each word in the text.\n",
    "\n",
    "The IDF formulat is:\n",
    "\n",
    "$$IDF(w) = ln(\\dfrac{N}{1 + n(w)})$$\n",
    "\n",
    "Where:\n",
    "\n",
    "- $w$ is the token (unique word),\n",
    "- $n(w)$ is the number of documents that $w$ occurs in,\n",
    "- $N$ is the total number of documents\n",
    "\n",
    "Write a function, `idf(docs)` that takes in a list of lists of words and returns a dictionary  `word -> idf score`\n",
    "\n",
    "Example:\n",
    "\n",
    "```\n",
    "IDF([['interview', 'questions'], ['interview', 'answers']]) -> {'questions': 0.0, \n",
    "                                                                'interview': -0.4, \n",
    "                                                                'answers': 0.0}\n",
    "\n",
    "\n",
    "```"
   ]
  },
  {
   "cell_type": "code",
   "execution_count": 9,
   "metadata": {},
   "outputs": [
    {
     "data": {
      "text/plain": [
       "{'interview': -0.4, 'questions': 0.0, 'answers': 0.0}"
      ]
     },
     "execution_count": 9,
     "metadata": {},
     "output_type": "execute_result"
    }
   ],
   "source": [
    "import math\n",
    "\n",
    "def IDF(doc_list):\n",
    "    N = len(doc_list)\n",
    "    word_count = {}\n",
    "    idfs = {}\n",
    "    \n",
    "    for doc in doc_list:\n",
    "        for word in doc:\n",
    "            \n",
    "            if word in word_count:\n",
    "                word_count[word] += 1\n",
    "            else:                \n",
    "                word_count[word] = 1\n",
    "            \n",
    "    for word in word_count:\n",
    "        count = word_count[word]\n",
    "        word_idf = math.log(N/(1+count))\n",
    "        idfs[word] = round(word_idf,1)\n",
    "        \n",
    "    return idfs\n",
    "\n",
    "IDF([['interview', 'questions'], ['interview', 'answers']])"
   ]
  },
  {
   "cell_type": "markdown",
   "metadata": {
    "colab": {},
    "colab_type": "code",
    "id": "82bfnc_KueoX"
   },
   "source": [
    "# Stretch Goal: TF-IDF on Hamlet\n",
    "\n",
    "The TF-IDF score is a commonly used statistic for the importance of words. Its $\\frac{TF}{IDF}$ where TF is the \"term frequency\" (eg. how often the words happens in the document).\n",
    "\n",
    "Calculate the TF-IDF dictionary on the Hamlet book.\n",
    "\n",
    "What's the TF-IDF of \"Hamlet\"?\n",
    "\n",
    "What's the word with the highest TF-IDF in the book?"
   ]
  },
  {
   "cell_type": "code",
   "execution_count": 10,
   "metadata": {},
   "outputs": [
    {
     "name": "stdout",
     "output_type": "stream",
     "text": [
      "1. Hamlet TF/IDF = 171.111\n",
      "\n",
      "2. Highest TF/IDF = ('the', 619.444)\n",
      "\n",
      "3. Entire TF/IDF = {'the': 619.444, 'tragedy': 0.405, 'of': 294.348, 'hamlet': 171.111, '': -10695.556, 'prince': 0.87, 'denmark': 4.545, 'contents': 0.26, 'act': 4.286, 'i': 218.0, 'scene': 8.8, 'elsinore': 1.746, 'a': 220.0, 'platform': 0.87, 'before': 3.86, 'castle': 5.556, 'ii': 1.935, 'room': 5.185, 'state': 2.667, 'in': 166.296, 'iii': 1.212, 'polonius’s': 0.556, 'house': 1.045, 'iv': 1.212, 'v': 0.87, 'more': 23.333, 'remote': 0.26, 'part': 4.727, 'hall': 0.87, 'another': 3.448, 'plain': 0.405, 'vi': 0.26, 'vii': 0.26, 'churchyard': 0.26, 'dramatis': 0.123, 'personæ': 0.123, 'claudius': 0.405, 'king': 56.286, 'hamlet’s': 1.935, 'uncle': 1.562, 'ghost': 6.038, 'late': 1.746, 'father': 10.833, 'gertrude': 2.295, 'queen': 29.5, 'mother': 7.647, 'now': 23.333, 'wife': 1.385, 'polonius': 30.0, 'lord': 65.0, 'chamberlain': 0.123, 'laertes': 25.61, 'son': 3.448, 'to': 335.0, 'ophelia': 20.233, 'daughter': 2.5, 'horatio': 40.789, 'friend': 1.935, 'fortinbras': 3.684, 'norway': 2.097, 'voltemand': 1.385, 'courtier': 1.385, 'cornelius': 1.045, 'rosencrantz': 17.727, 'guildenstern': 14.348, 'marcellus': 9.592, 'officer': 0.26, 'barnardo': 5.556, 'francisco': 1.746, 'soldier': 0.405, 'osric': 6.226, 'reynaldo': 3.276, 'servant': 0.714, 'players': 3.448, 'gentleman': 3.051, 'priest': 0.556, 'two': 3.86, 'clowns': 0.405, 'grave-diggers': 0.123, 'captain': 1.562, 'english': 0.26, 'ambassadors': 0.405, 'lords': 0.556, 'ladies': 0.556, 'officers': 0.26, 'soldiers': 0.714, 'sailors': 0.556, 'messengers': 0.26, 'and': 516.316, 'attendants': 1.212, 'enter': 14.783, 'sentinels': 0.123, 'who’s': 0.123, 'there': 16.889, 'nay': 4.545, 'answer': 2.295, 'me': 71.212, 'stand': 2.667, 'unfold': 0.405, 'yourself': 2.295, 'long': 2.881, 'live': 2.5, 'he': 64.118, 'you': 221.2, 'come': 25.61, 'most': 18.636, 'carefully': 0.123, 'upon': 11.458, 'your': 73.333, 'hour': 1.212, '’tis': 16.222, 'struck': 0.87, 'twelve': 0.714, 'get': 1.385, 'thee': 12.34, 'bed': 1.746, 'for': 74.848, 'this': 96.129, 'relief': 0.123, 'much': 10.0, 'thanks': 1.562, 'bitter': 0.405, 'cold': 0.87, 'am': 11.458, 'sick': 0.556, 'at': 20.233, 'heart': 5.37, 'have': 50.0, 'had': 8.8, 'quiet': 0.714, 'guard': 0.405, 'not': 100.323, 'mouse': 0.26, 'stirring': 0.123, 'well': 16.667, 'good': 25.61, 'night': 6.731, 'if': 27.561, 'do': 39.211, 'meet': 1.385, 'rivals': 0.123, 'my': 198.462, 'watch': 2.667, 'bid': 0.87, 'them': 16.667, 'make': 11.458, 'haste': 2.097, 'think': 9.592, 'hear': 6.226, 'ho': 2.097, 'who': 8.6, 'is': 113.667, 'friends': 3.448, 'ground': 1.562, 'liegemen': 0.123, 'dane': 0.87, 'give': 12.553, 'o': 26.829, 'farewell': 2.881, 'honest': 1.746, 'hath': 13.913, 'reliev’d': 0.26, 'has': 2.295, 'place': 1.385, 'good-night': 0.123, '[': 48.889, 'exit': 7.451, ']': 49.167, 'holla': 0.123, 'say': 11.25, 'what': 58.0, 'piece': 0.87, 'him': 55.714, 'welcome': 2.881, 'thing': 2.881, 'appear’d': 0.405, 'again': 6.226, 'tonight': 1.746, 'seen': 3.86, 'nothing': 5.556, 'says': 1.212, 'but': 84.062, 'our': 29.75, 'fantasy': 0.405, 'will': 45.946, 'let': 21.86, 'belief': 0.123, 'take': 6.731, 'hold': 4.909, 'touching': 0.405, 'dreaded': 0.123, 'sight': 1.385, 'twice': 0.556, 'us': 15.556, 'therefore': 2.5, 'entreated': 0.123, 'along': 0.405, 'with': 84.062, 'minutes': 0.123, 'that': 138.571, 'apparition': 0.26, 'may': 15.778, 'approve': 0.26, 'eyes': 4.107, 'speak': 13.191, 'it': 149.286, 'tush': 0.26, '’twill': 0.405, 'appear': 0.405, 'sit': 1.212, 'down': 5.185, 'awhile': 1.562, 'once': 3.276, 'assail': 0.123, 'ears': 1.562, 'are': 33.333, 'so': 56.286, 'fortified': 0.123, 'against': 4.107, 'story': 0.405, 'we': 35.385, 'nights': 0.405, 'last': 2.5, 'all': 30.0, 'when': 11.458, 'yond': 0.123, 'same': 1.935, 'star': 0.87, 'that’s': 2.667, 'westward': 0.123, 'from': 22.857, 'pole': 0.26, 'made': 5.556, 'his': 95.806, 'course': 0.714, 't’illume': 0.123, 'heaven': 8.6, 'where': 11.458, 'burns': 0.26, 'myself': 1.935, 'bell': 0.26, 'then': 13.696, 'beating': 0.405, 'one—': 0.123, 'peace': 1.562, 'break': 1.212, 'off': 3.684, 'look': 7.115, 'comes': 4.286, 'figure': 0.714, 'like': 18.182, 'dead': 5.849, 'thou': 24.524, 'art': 2.881, 'scholar': 0.123, 'looks': 1.212, 'mark': 2.295, 'harrows': 0.123, 'fear': 3.448, 'wonder': 0.405, 'would': 17.955, 'be': 65.0, 'spoke': 0.26, 'question': 2.667, 'usurp’st': 0.123, 'time': 8.8, 'together': 1.935, 'fair': 3.684, 'warlike': 0.714, 'form': 2.097, 'which': 13.913, 'majesty': 2.667, 'buried': 0.87, 'did': 14.348, 'sometimes': 0.405, 'march': 1.045, 'by': 29.0, 'charge': 1.212, 'offended': 0.405, 'see': 9.0, 'stalks': 0.123, 'away': 4.727, 'stay': 1.746, 'gone': 2.295, 'how': 20.698, 'tremble': 0.26, 'pale': 1.212, 'something': 2.5, 'than': 10.408, 'on’t': 1.212, 'god': 5.849, 'might': 5.849, 'believe': 3.276, 'without': 3.448, 'sensible': 0.123, 'true': 4.107, 'avouch': 0.123, 'mine': 5.849, 'own': 7.451, 'as': 64.706, 'thyself': 0.556, 'such': 11.458, 'was': 18.636, 'very': 14.13, 'armour': 0.405, 'on': 32.821, 'th’ambitious': 0.123, 'combated': 0.123, 'frown’d': 0.123, 'an': 10.408, 'angry': 0.123, 'parle': 0.123, 'smote': 0.123, 'sledded': 0.123, 'polacks': 0.123, 'ice': 0.26, 'strange': 1.385, 'thus': 7.843, 'jump': 0.26, 'martial': 0.123, 'stalk': 0.123, 'particular': 1.212, 'thought': 1.746, 'work': 1.562, 'know': 16.444, 'gross': 0.405, 'scope': 0.405, 'opinion': 0.123, 'bodes': 0.123, 'some': 11.25, 'eruption': 0.123, 'tell': 8.4, 'knows': 0.405, 'why': 12.766, 'strict': 0.26, 'observant': 0.123, 'nightly': 0.123, 'toils': 0.123, 'subject': 0.405, 'land': 0.714, 'daily': 0.123, 'cast': 0.87, 'brazen': 0.123, 'cannon': 0.714, 'foreign': 0.123, 'mart': 0.123, 'implements': 0.123, 'war': 0.26, 'impress': 0.123, 'shipwrights': 0.123, 'whose': 5.849, 'sore': 0.405, 'task': 0.123, 'does': 4.545, 'divide': 0.26, 'sunday': 0.123, 'week': 0.123, 'toward': 0.87, 'sweaty': 0.123, 'doth': 4.909, 'joint-labourer': 0.123, 'day': 3.684, 'is’t': 2.881, 'can': 6.415, 'inform': 0.26, 'least': 0.26, 'whisper': 0.26, 'goes': 2.295, 'image': 0.556, 'even': 4.107, 'thereto': 0.123, 'prick’d': 0.123, 'emulate': 0.123, 'pride': 0.123, 'dar’d': 0.123, 'combat': 0.123, 'valiant': 0.26, 'side': 0.26, 'known': 1.212, 'world': 4.286, 'esteem’d': 0.123, 'slay': 0.123, 'seal’d': 0.87, 'compact': 0.123, 'ratified': 0.123, 'law': 1.045, 'heraldry': 0.26, 'forfeit': 0.123, 'life': 6.038, 'those': 3.684, 'lands': 0.556, 'stood': 0.87, 'seiz’d': 0.123, 'conqueror': 0.123, 'moiety': 0.123, 'competent': 0.123, 'gaged': 0.123, 'return’d': 0.556, 'inheritance': 0.123, 'been': 5.185, 'vanquisher': 0.123, 'cov’nant': 0.123, 'carriage': 0.123, 'article': 0.26, 'design’d': 0.123, 'fell': 1.385, 'sir': 16.444, 'young': 2.881, 'unimproved': 0.123, 'mettle': 0.123, 'hot': 0.87, 'full': 1.746, 'skirts': 0.123, 'here': 11.25, 'shark’d': 0.123, 'up': 6.923, 'list': 1.045, 'lawless': 0.26, 'resolutes': 0.123, 'food': 0.26, 'diet': 0.26, 'enterprise': 0.26, 'stomach': 0.123, 'in’t': 1.746, 'no': 37.632, 'other': 2.097, 'unto': 1.212, 'recover': 0.405, 'strong': 0.556, 'hand': 3.448, 'terms': 0.714, 'compulsatory': 0.123, 'foresaid': 0.123, 'lost': 1.385, 'main': 0.556, 'motive': 0.714, 'preparations': 0.123, 'source': 0.26, 'chief': 0.405, 'head': 4.727, 'post-haste': 0.123, 'rummage': 0.123, 'e’en': 1.935, 'sort': 0.405, 'portentous': 0.123, 'armed': 0.405, 'through': 1.385, 'these': 10.0, 'wars': 0.26, 'mote': 0.123, 'trouble': 0.26, 'mind’s': 0.26, 'eye': 2.5, 'high': 0.405, 'palmy': 0.123, 'rome': 0.123, 'little': 3.051, 'ere': 1.935, 'mightiest': 0.123, 'julius': 0.26, 'graves': 0.26, 'tenantless': 0.123, 'sheeted': 0.123, 'squeak': 0.123, 'gibber': 0.123, 'roman': 0.26, 'streets': 0.26, 'stars': 0.556, 'trains': 0.26, 'fire': 1.935, 'dews': 0.123, 'blood': 3.276, 'disasters': 0.123, 'sun': 1.212, 'moist': 0.123, 'influence': 0.123, 'neptune’s': 0.26, 'empire': 0.26, 'stands': 0.556, 'almost': 1.562, 'doomsday': 0.405, 'eclipse': 0.123, 'precurse': 0.123, 'fierce': 0.123, 'events': 0.123, 'harbingers': 0.123, 'preceding': 0.123, 'still': 3.448, 'fates': 0.26, 'prologue': 0.87, 'omen': 0.123, 'coming': 1.045, 'earth': 3.448, 'demonstrated': 0.123, 'climatures': 0.123, 'countrymen': 0.123, 're-enter': 0.556, 'soft': 1.385, 'behold': 0.123, 'lo': 0.405, 'i’ll': 12.128, 'cross': 0.123, 'though': 4.286, 'blast': 0.26, 'illusion': 0.123, 'hast': 2.667, 'any': 1.935, 'sound': 1.045, 'or': 27.561, 'use': 2.667, 'voice': 1.935, 'done': 3.86, 'ease': 0.556, 'grace': 2.295, 'privy': 0.123, 'thy': 20.0, 'country’s': 0.123, 'fate': 0.26, 'happily': 0.26, 'foreknowing': 0.123, 'avoid': 0.405, 'uphoarded': 0.123, 'extorted': 0.123, 'treasure': 0.556, 'womb': 0.123, 'they': 24.286, 'spirits': 0.714, 'oft': 1.935, 'walk': 1.385, 'death': 7.115, 'cock': 0.87, 'crows': 0.123, 'stop': 0.556, 'shall': 27.805, 'strike': 0.26, 'partisan': 0.123, 'wrong': 0.87, 'being': 1.935, 'majestical': 0.26, 'offer': 0.405, 'show': 4.107, 'violence': 0.556, 'air': 1.935, 'invulnerable': 0.123, 'vain': 0.123, 'blows': 0.26, 'malicious': 0.26, 'mockery': 0.123, 'about': 3.051, 'crew': 0.26, 'started': 0.123, 'guilty': 0.87, 'fearful': 0.123, 'summons': 0.123, 'heard': 2.295, 'trumpet': 0.714, 'morn': 0.405, 'lofty': 0.123, 'shrill-sounding': 0.123, 'throat': 0.556, 'awake': 0.26, 'warning': 0.123, 'whether': 0.87, 'sea': 0.87, 'th’extravagant': 0.123, 'erring': 0.123, 'spirit': 2.295, 'hies': 0.123, 'confine': 0.26, 'truth': 0.87, 'herein': 0.556, 'present': 0.405, 'object': 0.123, 'probation': 0.123, 'faded': 0.123, 'crowing': 0.123, 'ever': 2.097, '’gainst': 0.714, 'season': 0.87, 'wherein': 1.212, 'saviour’s': 0.123, 'birth': 0.556, 'celebrated': 0.123, 'bird': 0.26, 'dawning': 0.123, 'singeth': 0.123, 'dare': 0.87, 'stir': 0.714, 'abroad': 0.123, 'wholesome': 1.045, 'planets': 0.123, 'fairy': 0.123, 'takes': 1.562, 'nor': 7.115, 'witch': 0.123, 'power': 1.212, 'charm': 0.123, 'hallow’d': 0.123, 'gracious': 0.714, 'russet': 0.123, 'mantle': 0.123, 'clad': 0.123, 'walks': 0.26, 'o’er': 2.295, 'dew': 0.405, 'yon': 0.123, 'eastward': 0.123, 'hill': 0.405, 'advice': 0.405, 'impart': 0.556, 'dumb': 0.87, 'consent': 0.556, 'acquaint': 0.123, 'needful': 0.26, 'loves': 1.045, 'fitting': 0.123, 'duty': 2.097, 'let’s': 1.562, 'do’t': 1.385, 'pray': 5.37, 'morning': 0.714, 'find': 2.881, 'conveniently': 0.123, 'exeunt': 6.731, 'attendant': 0.123, 'yet': 8.4, 'dear': 5.185, 'brother’s': 1.045, 'memory': 1.562, 'green': 0.405, 'befitted': 0.123, 'bear': 2.295, 'hearts': 0.26, 'grief': 2.295, 'whole': 1.045, 'kingdom': 0.714, 'contracted': 0.123, 'one': 9.0, 'brow': 0.556, 'woe': 1.212, 'far': 1.746, 'discretion': 0.556, 'fought': 0.123, 'nature': 4.909, 'wisest': 0.405, 'sorrow': 0.87, 'remembrance': 0.556, 'ourselves': 2.097, 'sometime': 0.405, 'sister': 0.87, 'th’imperial': 0.123, 'jointress': 0.123, '’twere': 1.746, 'defeated': 0.123, 'joy': 1.212, 'auspicious': 0.123, 'dropping': 0.123, 'mirth': 0.26, 'funeral': 0.405, 'dirge': 0.123, 'marriage': 0.87, 'equal': 0.26, 'scale': 0.26, 'weighing': 0.123, 'delight': 0.405, 'dole': 0.123, 'taken': 0.26, 'barr’d': 0.123, 'better': 2.295, 'wisdoms': 0.123, 'freely': 0.556, 'affair': 0.405, 'follows': 0.556, 'holding': 0.123, 'weak': 0.26, 'supposal': 0.123, 'worth': 0.405, 'thinking': 0.556, 'disjoint': 0.123, 'out': 11.667, 'frame': 0.556, 'colleagued': 0.123, 'dream': 0.714, 'advantage': 0.123, 'fail’d': 0.123, 'pester': 0.123, 'message': 0.123, 'importing': 0.405, 'surrender': 0.123, 'bonds': 0.123, 'brother': 1.385, 'ourself': 0.405, 'meeting': 0.26, 'business': 1.746, 'writ': 0.714, 'impotent': 0.123, 'bed-rid': 0.123, 'scarcely': 0.26, 'hears': 0.405, 'nephew’s': 0.26, 'purpose': 1.935, 'suppress': 0.26, 'further': 1.935, 'gait': 0.26, 'levies': 0.26, 'lists': 0.123, 'proportions': 0.123, 'dispatch': 0.26, 'bearers': 0.26, 'greeting': 0.123, 'old': 3.448, 'giving': 0.405, 'personal': 0.123, 'dilated': 0.123, 'articles': 0.123, 'allow': 0.123, 'commend': 0.556, 'things': 1.746, 'doubt': 1.746, 'heartily': 0.405, 'what’s': 1.935, 'news': 1.562, 'told': 0.714, 'suit': 0.405, 'cannot': 5.37, 'reason': 2.295, 'lose': 1.045, 'wouldst': 0.87, 'beg': 1.045, 'asking': 0.26, 'native': 0.556, 'instrumental': 0.123, 'mouth': 0.87, 'throne': 0.26, 'dread': 0.714, 'leave': 5.185, 'favour': 0.556, 'return': 0.714, 'france': 0.714, 'whence': 0.123, 'willingly': 0.26, 'came': 1.385, 'coronation': 0.123, 'must': 12.553, 'confess': 0.87, 'thoughts': 2.881, 'wishes': 0.123, 'bend': 0.405, 'bow': 0.405, 'pardon': 0.87, 'father’s': 3.051, 'wrung': 0.123, 'slow': 0.405, 'laboursome': 0.123, 'petition': 0.123, 'hard': 0.714, 'beseech': 1.045, 'go': 15.556, 'thine': 2.295, 'best': 1.746, 'graces': 0.26, 'spend': 0.123, 'cousin': 0.556, 'son—': 0.123, 'aside': 1.746, 'kin': 0.26, 'less': 1.212, 'kind': 1.935, 'clouds': 0.556, 'hang': 0.556, 'too': 10.408, 'i’': 3.86, 'nighted': 0.123, 'colour': 0.714, 'vailed': 0.123, 'lids': 0.123, 'seek': 1.385, 'noble': 2.881, 'dust': 1.045, 'know’st': 0.26, 'common': 1.045, 'lives': 0.556, 'die': 0.87, 'passing': 0.405, 'eternity': 0.123, 'ay': 7.115, 'madam': 1.935, 'seems': 1.045, 'alone': 1.385, 'inky': 0.123, 'cloak': 0.123, 'customary': 0.123, 'suits': 0.405, 'solemn': 0.405, 'black': 1.212, 'windy': 0.123, 'suspiration': 0.123, 'forc’d': 0.26, 'breath': 1.385, 'fruitful': 0.123, 'river': 0.123, 'dejected': 0.123, 'haviour': 0.123, 'visage': 0.714, 'forms': 0.405, 'moods': 0.123, 'shows': 1.385, 'denote': 0.123, 'truly': 1.212, 'indeed': 5.849, 'seem': 1.562, 'actions': 0.26, 'man': 10.408, 'play': 7.115, 'within': 4.909, 'passeth': 0.123, 'trappings': 0.123, 'sweet': 4.727, 'commendable': 0.123, 'mourning': 0.123, 'duties': 0.123, 'survivor': 0.123, 'bound': 0.714, 'filial': 0.123, 'obligation': 0.26, 'term': 0.26, 'obsequious': 0.123, 'persevere': 0.123, 'obstinate': 0.123, 'condolement': 0.123, 'impious': 0.123, 'stubbornness': 0.123, 'unmanly': 0.123, 'incorrect': 0.123, 'unfortified': 0.123, 'mind': 1.935, 'impatient': 0.123, 'understanding': 0.26, 'simple': 0.123, 'unschool’d': 0.123, 'vulgar': 0.26, 'sense': 2.097, 'should': 11.458, 'peevish': 0.123, 'opposition': 0.26, 'fie': 0.87, 'fault': 0.714, 'absurd': 0.26, 'theme': 0.405, 'fathers': 0.26, 'cried': 0.405, 'first': 13.696, 'corse': 0.405, 'till': 3.448, 'died': 0.556, 'today': 0.26, '‘this': 0.123, '’': 4.286, 'throw': 0.714, 'unprevailing': 0.123, 'note': 0.87, 'immediate': 0.26, 'nobility': 0.123, 'love': 14.348, 'dearest': 0.26, 'bears': 0.26, 'intent': 0.26, 'going': 0.26, 'back': 1.212, 'school': 0.123, 'wittenberg': 0.556, 'retrograde': 0.123, 'desire': 1.045, 'remain': 0.26, 'cheer': 0.405, 'comfort': 0.123, 'chiefest': 0.123, 'her': 21.163, 'prayers': 0.26, 'obey': 1.045, 'loving': 0.405, 'reply': 0.26, 'gentle': 0.714, 'unforc’d': 0.123, 'accord': 0.123, 'sits': 0.556, 'smiling': 0.405, 'whereof': 0.26, 'jocund': 0.123, 'health': 0.87, 'drinks': 0.26, 'great': 4.727, 'king’s': 1.212, 'rouse': 0.405, 'bruit': 0.123, 're-speaking': 0.123, 'earthly': 0.123, 'thunder': 0.26, 'solid': 0.123, 'flesh': 0.714, 'melt': 0.26, 'thaw': 0.123, 'resolve': 0.123, 'itself': 4.286, 'into': 6.038, 'everlasting': 0.123, 'fix’d': 0.405, 'canon': 0.123, 'self-slaughter': 0.123, 'weary': 0.26, 'stale': 0.123, 'flat': 0.405, 'unprofitable': 0.123, 'uses': 0.405, 'oh': 0.405, 'unweeded': 0.123, 'garden': 0.123, 'grows': 0.556, 'seed': 0.123, 'rank': 1.045, 'possess': 0.123, 'merely': 0.26, 'months': 0.556, 'dead—nay': 0.123, 'excellent': 1.562, 'hyperion': 0.123, 'satyr': 0.123, 'beteem': 0.123, 'winds': 0.405, 'visit': 0.714, 'face': 1.746, 'roughly': 0.26, 'remember': 1.935, 'she': 9.2, 'increase': 0.123, 'appetite': 0.123, 'grown': 0.556, 'fed': 0.26, 'month—': 0.123, 'on’t—frailty': 0.123, 'name': 1.746, 'woman': 1.045, 'month': 0.405, 'shoes': 0.26, 'were': 4.909, 'followed': 0.26, 'poor': 3.448, 'body': 2.881, 'niobe': 0.123, 'tears': 1.212, '—why': 0.123, 'she—': 0.123, 'beast': 0.87, 'wants': 0.26, 'discourse': 0.87, 'mourn’d': 0.123, 'longer': 0.87, '—married': 0.123, 'hercules': 0.405, 'salt': 0.405, 'unrighteous': 0.123, 'left': 0.405, 'flushing': 0.123, 'galled': 0.123, 'married': 0.26, 'wicked': 0.87, 'speed': 0.405, 'post': 0.123, 'dexterity': 0.123, 'incestuous': 0.405, 'sheets': 0.123, 'tongue': 2.5, 'hail': 0.123, 'lordship': 1.212, 'glad': 0.556, 'forget': 0.556, 'change': 0.556, '—': 10.0, '—good': 0.26, 'faith': 2.881, 'truant': 0.26, 'disposition': 0.714, 'enemy': 0.405, 'ear': 2.881, 'truster': 0.123, 'report': 0.714, 'we’ll': 2.097, 'teach': 0.714, 'drink': 2.5, 'deep': 0.556, 'depart': 0.123, 'prithee': 0.123, 'mock': 0.556, 'fellow-student': 0.123, 'mother’s': 0.87, 'wedding': 0.123, 'follow’d': 0.123, 'thrift': 0.556, 'bak’d': 0.26, 'meats': 0.123, 'coldly': 0.26, 'furnish': 0.123, 'forth': 1.045, 'tables': 0.26, 'met': 0.123, 'foe': 0.26, '—methinks': 0.123, 'saw': 1.935, 'goodly': 0.405, 'yesternight': 0.123, 'admiration': 0.405, 'while': 2.097, 'attent': 0.123, 'deliver': 0.26, 'witness': 0.26, 'gentlemen': 1.935, 'marvel': 0.123, 'god’s': 0.405, 'their': 12.128, 'waste': 0.26, 'middle': 0.26, 'encounter’d': 0.123, 'point': 0.87, 'exactly': 0.123, 'cap-à-pie': 0.123, 'appears': 0.405, 'stately': 0.123, 'thrice': 0.556, 'walk’d': 0.123, 'oppress’d': 0.123, 'fear-surprised': 0.123, 'truncheon’s': 0.123, 'length': 0.556, 'whilst': 0.87, 'distill’d': 0.123, 'jelly': 0.123, 'dreadful': 0.405, 'secrecy': 0.405, 'third': 0.405, 'kept': 0.556, 'deliver’d': 0.123, 'both': 5.185, 'each': 1.746, 'word': 1.935, 'knew': 0.714, 'hands': 1.935, 'none': 2.097, 'methought': 0.556, 'lifted': 0.123, 'address': 0.123, 'motion': 0.556, 'loud': 0.405, 'shrunk': 0.123, 'vanish’d': 0.123, 'honour’d': 0.556, 'sirs': 0.26, 'troubles': 0.26, 'mar': 0.123, 'arm’d': 0.26, 'top': 1.045, 'toe': 0.26, 'foot': 0.405, 'yes': 0.714, 'wore': 0.123, 'beaver': 0.123, 'look’d': 0.405, 'frowningly': 0.123, 'countenance': 0.714, 'anger': 0.123, 'red': 0.26, 'constantly': 0.123, 'amaz’d': 0.123, 'stay’d': 0.405, 'moderate': 0.123, 'hundred': 0.26, 'saw’t': 0.123, 'beard': 0.87, 'grizzled': 0.123, 'sable': 0.26, 'silver’d': 0.123, 'perchance': 0.714, 'warrant': 0.714, 'assume': 0.405, 'person': 0.556, 'hell': 1.562, 'gape': 0.123, 'hitherto': 0.26, 'conceal’d': 0.123, 'tenable': 0.123, 'silence': 0.714, 'whatsoever': 0.123, 'else': 3.051, 'hap': 0.123, 'requite': 0.26, 'fare': 0.87, 'ye': 0.556, '’twixt': 0.26, 'eleven': 0.123, 'honour': 1.562, 'arms': 1.385, 'foul': 1.746, 'soul': 6.415, 'deeds': 0.123, 'rise': 0.26, 'o’erwhelm': 0.123, 'men’s': 0.405, 'necessaries': 0.123, 'embark’d': 0.123, 'benefit': 0.123, 'convoy': 0.123, 'assistant': 0.26, 'sleep': 1.935, 'trifling': 0.123, 'fashion': 1.212, 'toy': 0.26, 'violet': 0.123, 'youth': 2.667, 'primy': 0.123, 'forward': 0.26, 'permanent': 0.123, 'lasting': 0.26, 'perfume': 0.26, 'suppliance': 0.123, 'minute': 0.123, 'crescent': 0.123, 'grow': 1.212, 'thews': 0.123, 'bulk': 0.26, 'temple': 0.123, 'waxes': 0.26, 'inward': 0.405, 'service': 1.212, 'wide': 0.556, 'withal': 0.87, 'perhaps': 0.714, 'soil': 0.26, 'cautel': 0.123, 'besmirch': 0.123, 'virtue': 2.097, 'greatness': 0.123, 'weigh’d': 0.26, 'himself': 3.684, 'unvalu’d': 0.123, 'persons': 0.123, 'carve': 0.123, 'choice': 0.87, 'depends': 0.123, 'sanctity': 0.123, 'circumscrib’d': 0.123, 'yielding': 0.123, 'fits': 0.26, 'wisdom': 0.87, 'saying': 0.123, 'deed': 1.746, 'weigh': 0.26, 'loss': 0.123, 'sustain': 0.123, 'credent': 0.123, 'songs': 0.26, 'chaste': 0.405, 'open': 0.26, 'unmaster’d': 0.123, 'importunity': 0.123, 'keep': 3.051, 'rear': 0.123, 'affection': 0.556, 'shot': 1.212, 'danger': 0.714, 'chariest': 0.123, 'maid': 0.87, 'prodigal': 0.26, 'enough': 1.045, 'unmask': 0.123, 'beauty': 0.87, 'moon': 0.714, 'scopes': 0.123, 'calumnious': 0.123, 'strokes': 0.123, 'canker': 0.26, 'galls': 0.26, 'infants': 0.123, 'spring': 0.405, 'buttons': 0.123, 'disclos’d': 0.26, 'liquid': 0.123, 'contagious': 0.123, 'blastments': 0.123, 'imminent': 0.26, 'wary': 0.26, 'safety': 0.556, 'lies': 0.87, 'rebels': 0.123, 'near': 1.562, 'th’effect': 0.123, 'lesson': 0.123, 'watchman': 0.123, 'ungracious': 0.123, 'pastors': 0.123, 'steep': 0.123, 'thorny': 0.123, 'way': 1.746, 'puff’d': 0.26, 'reckless': 0.123, 'libertine': 0.123, 'primrose': 0.123, 'path': 0.123, 'dalliance': 0.123, 'treads': 0.123, 'recks': 0.123, 'rede': 0.123, 'double': 0.87, 'blessing': 0.714, 'occasion': 0.405, 'smiles': 0.123, 'second': 4.107, 'aboard': 0.405, 'shame': 1.212, 'wind': 1.746, 'shoulder': 0.405, 'sail': 0.405, 'laying': 0.405, 'laertes’s': 0.26, 'few': 0.405, 'precepts': 0.26, 'character': 0.26, 'unproportion’d': 0.123, 'familiar': 0.123, 'means': 3.448, 'adoption': 0.123, 'tried': 0.123, 'grapple': 0.26, 'hoops': 0.123, 'steel': 0.405, 'dull': 0.87, 'palm': 0.26, 'entertainment': 0.556, 'new-hatch’d': 0.123, 'unfledg’d': 0.123, 'comrade': 0.123, 'beware': 0.26, 'entrance': 0.123, 'quarrel': 0.26, 'bear’t': 0.123, 'th’opposed': 0.123, 'every': 1.045, 'man’s': 0.714, 'censure': 0.556, 'reserve': 0.123, 'judgment': 1.385, 'costly': 0.123, 'habit': 0.556, 'purse': 0.405, 'buy': 0.123, 'express’d': 0.123, 'fancy': 0.405, 'rich': 0.405, 'gaudy': 0.123, 'apparel': 0.123, 'proclaims': 0.26, 'station': 0.26, 'select': 0.123, 'generous': 0.405, 'neither': 1.562, 'borrower': 0.123, 'lender': 0.123, 'loan': 0.123, 'loses': 0.123, 'borrowing': 0.123, 'dulls': 0.123, 'edge': 0.405, 'husbandry': 0.123, 'above': 0.556, 'self': 0.123, 'follow': 3.684, 'canst': 0.405, 'false': 0.87, 'humbly': 0.714, 'invites': 0.123, 'servants': 0.26, 'tend': 0.556, 'said': 2.5, 'lock’d': 0.26, 'key': 0.123, 'please': 1.935, 'marry': 2.667, 'bethought': 0.123, 'given': 1.562, 'private': 0.123, 'audience': 0.714, 'free': 1.746, 'bounteous': 0.123, '—as': 0.556, 'put': 4.286, 'caution': 0.123, '—i': 0.556, 'understand': 1.045, 'clearly': 0.123, 'behoves': 0.123, 'between': 2.5, 'many': 3.051, 'tenders': 0.405, 'pooh': 0.123, 'girl': 0.123, 'unsifted': 0.123, 'perilous': 0.123, 'circumstance': 0.87, 'call': 3.86, 'baby': 0.26, 'ta’en': 0.405, 'pay': 0.556, 'sterling': 0.123, 'tender': 0.556, 'dearly': 0.26, '—not': 0.123, 'crack': 0.123, 'phrase': 1.562, 'roaming': 0.123, '—you’ll': 0.123, 'fool': 1.045, 'importun’d': 0.123, 'honourable': 0.405, 'speech': 2.667, 'holy': 0.26, 'vows': 0.87, 'springes': 0.123, 'catch': 0.26, 'woodcocks': 0.123, 'lends': 0.123, 'blazes': 0.123, 'light': 1.385, 'heat': 0.556, 'extinct': 0.123, 'promise': 0.123, 'a-making': 0.123, 'scanter': 0.123, 'maiden': 0.26, 'presence': 0.405, 'set': 3.86, 'entreatments': 0.123, 'higher': 0.123, 'rate': 0.26, 'command': 1.562, 'parley': 0.123, 'larger': 0.123, 'tether': 0.123, 'brokers': 0.123, 'dye': 0.123, 'investments': 0.123, 'mere': 0.405, 'implorators': 0.123, 'unholy': 0.123, 'breathing': 0.26, 'sanctified': 0.123, 'pious': 0.405, 'bawds': 0.123, 'beguile': 0.26, 'slander': 0.26, 'moment': 0.26, 'leisure': 0.556, 'words': 3.448, 'talk': 0.26, 'to’t': 1.212, 'ways': 0.405, 'bites': 0.123, 'shrewdly': 0.123, 'nipping': 0.123, 'eager': 0.26, 'lacks': 0.123, 'draws': 0.556, 'held': 0.26, 'wont': 0.405, 'flourish': 0.714, 'trumpets': 0.556, 'ordnance': 0.405, 'mean': 1.562, 'wake': 0.123, 'keeps': 0.714, 'wassail': 0.123, 'swaggering': 0.123, 'upspring': 0.123, 'reels': 0.123, 'drains': 0.123, 'draughts': 0.123, 'rhenish': 0.26, 'kettle-drum': 0.123, 'bray': 0.123, 'triumph': 0.123, 'pledge': 0.123, 'custom': 1.385, 'manner': 0.123, 'born': 0.405, 'breach': 0.123, 'observance': 0.26, 'heavy-headed': 0.123, 'revel': 0.123, 'east': 0.123, 'west': 0.123, 'makes': 3.051, 'traduc’d': 0.123, 'tax’d': 0.123, 'nations': 0.123, 'clepe': 0.123, 'drunkards': 0.123, 'swinish': 0.123, 'addition': 0.405, 'achievements': 0.123, 'perform’d': 0.26, 'height': 0.123, 'pith': 0.405, 'marrow': 0.123, 'attribute': 0.123, 'chances': 0.26, 'men': 1.746, 'vicious': 0.123, 'mole': 0.26, 'since': 3.051, 'choose': 0.556, 'origin': 0.26, 'o’ergrowth': 0.123, 'complexion': 0.405, 'breaking': 0.26, 'pales': 0.123, 'forts': 0.123, 'o’erleavens': 0.123, 'plausive': 0.123, 'manners': 0.26, '—that': 0.123, 'carrying': 0.123, 'stamp': 0.26, 'defect': 0.26, 'nature’s': 0.26, 'livery': 0.405, 'fortune’s': 0.714, 'virtues': 0.26, '—be': 0.123, 'pure': 0.405, 'infinite': 0.556, 'undergo': 0.123, 'general': 1.045, 'corruption': 0.405, 'dram': 0.123, 'evil': 0.556, 'substance': 0.26, 'often': 0.405, 'scandal': 0.26, 'angels': 0.405, 'ministers': 0.123, 'defend': 0.405, 'goblin': 0.123, 'damn’d': 0.714, 'bring': 1.935, 'airs': 0.123, 'blasts': 0.123, 'intents': 0.123, 'charitable': 0.26, 'com’st': 0.26, 'questionable': 0.123, 'shape': 0.87, 'royal': 0.405, 'burst': 0.405, 'ignorance': 0.405, 'canoniz’d': 0.123, 'bones': 0.556, 'hearsed': 0.123, 'cerements': 0.123, 'sepulchre': 0.123, 'quietly': 0.123, 'inurn’d': 0.123, 'op’d': 0.123, 'ponderous': 0.123, 'marble': 0.123, 'jaws': 0.123, 'complete': 0.123, 'revisit’st': 0.123, 'glimpses': 0.123, 'making': 0.405, 'hideous': 0.26, 'fools': 0.26, 'horridly': 0.26, 'shake': 0.26, 'beyond': 0.26, 'reaches': 0.123, 'souls': 0.714, 'wherefore': 0.405, 'beckons': 0.405, 'impartment': 0.123, 'courteous': 0.123, 'action': 1.562, 'waves': 0.405, 'removed': 0.123, 'pin’s': 0.123, 'fee': 0.405, 'immortal': 0.123, 'tempt': 0.405, 'flood': 0.123, 'summit': 0.26, 'cliff': 0.123, 'beetles': 0.123, 'base': 0.714, 'horrible': 0.556, 'deprive': 0.123, 'sovereignty': 0.123, 'draw': 1.385, 'madness': 3.86, 'puts': 0.556, 'toys': 0.123, 'desperation': 0.26, 'brain': 0.87, 'fadoms': 0.123, 'roar': 0.26, 'beneath': 0.556, 'rul’d': 0.405, 'cries': 0.714, 'petty': 0.26, 'artery': 0.123, 'hardy': 0.123, 'nemean': 0.123, 'lion’s': 0.123, 'nerve': 0.123, 'call’d': 0.123, 'unhand': 0.123, 'lets': 0.405, '—go': 0.123, 'desperate': 0.87, 'imagination': 0.556, 'fit': 1.935, 'after': 2.295, 'issue': 0.26, 'rotten': 0.26, 'direct': 0.556, 'whither': 0.123, 'wilt': 1.212, 'lead': 0.556, 'sulph’rous': 0.123, 'tormenting': 0.123, 'flames': 0.26, 'render': 0.123, 'alas': 1.746, 'pity': 0.556, 'lend': 0.556, 'serious': 0.123, 'hearing': 0.714, 'revenge': 1.935, 'shalt': 0.714, 'doom’d': 0.123, 'certain': 0.714, 'confin’d': 0.123, 'fast': 0.714, 'fires': 0.123, 'crimes': 0.405, 'days': 0.87, 'burnt': 0.123, 'purg’d': 0.123, 'forbid': 0.26, 'secrets': 0.123, 'prison-house': 0.123, 'could': 6.038, 'tale': 0.556, 'lightest': 0.123, 'harrow': 0.123, 'freeze': 0.123, 'start': 0.556, 'spheres': 0.123, 'knotted': 0.123, 'combined': 0.123, 'locks': 0.123, 'hair': 0.123, 'end': 2.881, 'quills': 0.123, 'fretful': 0.123, 'porcupine': 0.123, 'eternal': 0.26, 'blazon': 0.123, 'didst': 0.556, 'love—': 0.123, 'unnatural': 0.556, 'murder': 2.097, 'know’t': 0.123, 'wings': 0.26, 'swift': 0.26, 'meditation': 0.123, 'sweep': 0.26, 'apt': 0.26, 'duller': 0.123, 'shouldst': 0.26, 'fat': 0.87, 'weed': 0.123, 'rots': 0.123, 'lethe': 0.123, 'wharf': 0.123, 'sleeping': 0.556, 'orchard': 0.26, 'serpent': 0.26, 'stung': 0.123, 'forged': 0.123, 'process': 0.405, 'rankly': 0.123, 'abus’d': 0.123, 'sting': 0.26, 'wears': 0.26, 'crown': 0.87, 'prophetic': 0.123, 'adulterate': 0.123, 'witchcraft': 0.26, 'wit': 0.714, 'traitorous': 0.123, 'gifts': 0.714, 'seduce': 0.123, '—won': 0.123, 'shameful': 0.123, 'lust': 0.26, 'seeming-virtuous': 0.123, 'falling': 0.26, 'dignity': 0.26, 'went': 0.714, 'vow': 0.26, 'decline': 0.123, 'wretch': 0.405, 'natural': 0.714, 'never': 4.727, 'mov’d': 0.123, 'lewdness': 0.123, 'court': 0.87, 'radiant': 0.123, 'angel': 0.556, 'link’d': 0.123, 'sate': 0.123, 'celestial': 0.26, 'prey': 0.123, 'garbage': 0.123, 'methinks': 0.556, 'scent': 0.123, 'brief': 0.714, 'always': 0.123, 'afternoon': 0.123, 'secure': 0.26, 'stole': 0.405, 'juice': 0.123, 'cursed': 0.556, 'hebenon': 0.123, 'vial': 0.123, 'porches': 0.123, 'pour': 0.123, 'leperous': 0.123, 'distilment': 0.123, 'effect': 0.87, 'holds': 0.714, 'enmity': 0.123, 'quicksilver': 0.123, 'courses': 0.123, 'gates': 0.123, 'alleys': 0.123, 'sudden': 0.714, 'vigour': 0.123, 'posset': 0.123, 'curd': 0.123, 'droppings': 0.123, 'milk': 0.123, 'thin': 0.123, 'instant': 0.556, 'tetter': 0.123, 'bark’d': 0.123, 'lazar-like': 0.123, 'vile': 0.87, 'loathsome': 0.123, 'crust': 0.123, 'smooth': 0.26, 'dispatch’d': 0.123, 'cut': 0.26, 'blossoms': 0.123, 'sin': 0.26, 'unhous’led': 0.123, 'disappointed': 0.123, 'unanel’d': 0.123, 'reckoning': 0.123, 'sent': 2.097, 'account': 0.123, 'imperfections': 0.123, 'couch': 0.26, 'luxury': 0.123, 'damned': 0.87, 'incest': 0.123, 'howsoever': 0.123, 'pursu’st': 0.123, 'taint': 0.123, 'contrive': 0.26, 'aught': 1.562, 'thorns': 0.123, 'bosom': 0.556, 'lodge': 0.123, 'prick': 0.123, 'glow-worm': 0.123, 'matin': 0.123, '’gins': 0.123, 'uneffectual': 0.123, 'adieu': 1.045, 'host': 0.123, 'couple': 0.123, 'sinews': 0.26, 'stiffly': 0.123, 'seat': 0.26, 'distracted': 0.405, 'globe': 0.123, 'yea': 0.556, 'table': 0.714, 'wipe': 0.26, 'trivial': 0.123, 'fond': 0.123, 'records': 0.123, 'saws': 0.123, 'books': 0.123, 'pressures': 0.123, 'past': 0.405, 'observation': 0.123, 'copied': 0.123, 'commandment': 0.556, 'book': 0.26, 'volume': 0.123, 'unmix’d': 0.123, 'baser': 0.26, 'matter': 4.909, 'pernicious': 0.123, 'villain': 1.746, 'smile': 0.26, 'sure': 1.385, 'writing': 0.123, '‘adieu': 0.123, 'sworn’t': 0.123, 'illo': 0.123, 'hillo': 0.123, 'boy': 0.405, 'wonderful': 0.26, 'you’ll': 0.405, 'reveal': 0.123, 'secret': 0.556, 'there’s': 3.051, 'ne’er': 0.405, 'dwelling': 0.123, 'he’s': 1.562, 'arrant': 0.26, 'knave': 0.714, 'needs': 1.045, 'grave': 1.935, 'right': 1.746, 'desires': 0.556, '—and': 0.26, 'wild': 0.556, 'whirling': 0.123, 'i’m': 0.123, 'sorry': 0.556, 'offend': 0.123, 'offence': 1.045, 'saint': 0.405, 'patrick': 0.123, 'vision': 0.123, 'o’ermaster’t': 0.123, 'scholars': 0.123, 'request': 0.123, 'swear’t': 0.123, 'sword': 2.667, 'sworn': 0.26, 'already': 0.87, 'under': 0.714, 'stage': 0.556, 'swear': 1.385, 'ha': 1.212, 'say’st': 0.26, 'truepenny': 0.123, 'fellow': 1.385, 'cellarage': 0.123, 'propose': 0.26, 'oath': 0.26, 'hic': 0.123, 'et': 0.123, 'ubique': 0.123, 'shift': 0.123, 'hither': 1.212, 'lay': 1.385, 'th’earth': 0.556, 'worthy': 0.123, 'pioner': 0.123, 'remove': 0.26, 'wondrous': 0.405, 'stranger': 0.123, 'dreamt': 0.123, 'philosophy': 0.26, 'help': 1.935, 'mercy': 0.714, 'odd': 0.26, 'soe’er': 0.123, 'hereafter': 0.123, 'antic': 0.123, 'on—': 0.123, 'times': 1.212, 'seeing': 0.556, 'encumber’d': 0.123, 'head-shake': 0.123, 'pronouncing': 0.123, 'doubtful': 0.26, '‘well': 0.123, 'know’': 0.123, '‘we': 0.123, 'would’': 0.123, '‘if': 0.123, 'speak’': 0.123, '‘there': 0.123, 'might’': 0.123, 'ambiguous': 0.123, '—this': 0.123, 'need': 0.556, 'rest': 2.5, 'perturbed': 0.123, 't’express': 0.123, 'friending': 0.123, 'willing': 0.26, 'lack': 0.87, 'fingers': 0.556, 'lips': 0.26, 'joint': 0.123, 'spite': 0.123, 'money': 0.26, 'notes': 0.123, 'marvellous': 0.26, 'wisely': 0.26, 'inquiry': 0.123, 'behaviour': 0.26, 'intend': 0.123, 'enquire': 0.123, 'danskers': 0.123, 'paris': 0.123, 'company': 0.123, 'expense': 0.123, 'finding': 0.26, 'encompassment': 0.123, 'drift': 0.556, 'nearer': 0.26, 'demands': 0.26, 'touch': 0.87, 'distant': 0.123, 'knowledge': 0.123, '‘i': 0.405, 'him’—do': 0.123, '‘and': 0.123, '‘not': 0.123, 'if’t': 0.405, 'addicted': 0.123, 'forgeries': 0.123, 'dishonour': 0.26, 'heed': 0.26, 'wanton': 0.405, 'usual': 0.123, 'slips': 0.123, 'companions': 0.123, 'noted': 0.123, 'liberty': 0.714, 'gaming': 0.405, 'drinking': 0.123, 'fencing': 0.123, 'swearing': 0.26, 'quarrelling': 0.123, 'drabbing': 0.123, 'incontinency': 0.123, 'meaning': 0.123, 'breathe': 0.556, 'faults': 0.405, 'quaintly': 0.123, 'taints': 0.123, 'flash': 0.123, 'outbreak': 0.123, 'fiery': 0.405, 'savageness': 0.123, 'unreclaimed': 0.123, 'assault': 0.123, 'lord—': 0.123, 'here’s': 1.212, 'fetch': 0.26, 'slight': 0.123, 'sullies': 0.123, 'soil’d': 0.123, 'th’': 2.881, 'working': 0.26, 'party': 0.123, 'converse': 0.123, 'having': 0.26, 'prenominate': 0.123, 'assur’d': 0.26, 'closes': 0.26, 'consequence': 0.405, '‘good': 0.26, '‘friend': 0.26, '‘gentleman’—': 0.123, 'according': 0.26, 'country': 0.405, 'does—what': 0.123, 'mass': 0.714, '‘closes': 0.26, '‘gentleman': 0.123, 'consequence’': 0.123, 'yesterday': 0.123, 't’other': 0.123, 'o’ertook': 0.123, 'in’s': 0.714, 'tennis’': 0.123, 'sale’—': 0.123, 'videlicet': 0.123, 'brothel': 0.123, 'bait': 0.123, 'falsehood': 0.123, 'carp': 0.123, 'reach': 0.123, 'windlasses': 0.123, 'assays': 0.123, 'bias': 0.123, 'indirections': 0.123, 'directions': 0.123, 'former': 0.26, 'lecture': 0.123, 'b’': 0.556, 'wi’': 0.556, 'observe': 0.405, 'inclination': 0.26, 'ply': 0.123, 'music': 1.212, 'affrighted': 0.123, 'sewing': 0.123, 'chamber': 0.556, 'doublet': 0.123, 'unbrac’d': 0.123, 'hat': 0.26, 'stockings': 0.123, 'foul’d': 0.123, 'ungart’red': 0.123, 'down-gyved': 0.123, 'ankle': 0.123, 'shirt': 0.123, 'knees': 0.26, 'knocking': 0.123, 'piteous': 0.405, 'purport': 0.123, 'loosed': 0.123, 'horrors': 0.123, 'mad': 3.684, 'took': 0.556, 'wrist': 0.123, 'arm': 0.714, 'falls': 1.385, 'perusal': 0.123, '—a': 0.26, 'shaking': 0.123, 'waving': 0.123, 'rais’d': 0.123, 'sigh': 0.556, 'profound': 0.26, 'shatter': 0.123, 'over': 0.556, 'turn’d': 0.556, 'seem’d': 0.26, 'o’': 1.385, 'doors': 0.405, 'bended': 0.123, 'ecstasy': 0.556, 'violent': 0.556, 'property': 0.556, 'fordoes': 0.123, 'leads': 0.123, 'undertakings': 0.123, 'passion': 1.746, 'afflict': 0.123, 'natures': 0.123, 'repel': 0.123, 'letters': 1.212, 'denied': 0.123, 'access': 0.123, 'quoted': 0.123, 'fear’d': 0.123, 'trifle': 0.123, 'meant': 0.556, 'wreck': 0.123, 'beshrew': 0.123, 'jealousy': 0.26, 'proper': 0.26, 'age': 1.385, 'opinions': 0.26, 'younger': 0.123, 'close': 0.405, 'move': 0.87, 'hide': 0.714, 'hate': 0.123, 'utter': 0.123, 'moreover': 0.123, 'provoke': 0.123, 'hasty': 0.123, 'sending': 0.26, 'transformation': 0.123, 'th’exterior': 0.123, 'resembles': 0.123, 'th’understanding': 0.123, 'entreat': 0.405, 'brought': 0.87, 'neighbour’d': 0.123, 'humour': 0.123, 'vouchsafe': 0.405, 'companies': 0.123, 'pleasures': 0.26, 'gather': 0.405, 'glean': 0.123, 'unknown': 0.26, 'afflicts': 0.123, 'open’d': 0.123, 'remedy': 0.123, 'talk’d': 0.26, 'living': 0.26, 'whom': 0.87, 'adheres': 0.123, 'gentry': 0.26, 'expend': 0.123, 'supply': 0.123, 'profit': 0.405, 'hope': 1.212, 'visitation': 0.405, 'receive': 1.045, 'majesties': 0.26, 'sovereign': 0.405, 'entreaty': 0.26, 'bent': 0.405, 'feet': 0.26, 'commanded': 0.123, 'instantly': 0.123, 'changed': 0.123, 'heavens': 1.212, 'practices': 0.123, 'pleasant': 0.123, 'helpful': 0.123, 'amen': 0.123, 'th’ambassadors': 0.26, 'joyfully': 0.123, 'assure': 0.123, 'liege': 0.405, '—or': 0.123, 'hunts': 0.123, 'trail': 0.26, 'policy': 0.123, 'us’d': 0.123, 'do—that': 0.123, 'found': 0.714, 'cause': 2.881, 'lunacy': 0.26, 'admittance': 0.123, 'fruit': 0.26, 'feast': 0.405, 'tells': 0.123, 'son’s': 0.123, 'distemper': 0.405, 'o’erhasty': 0.123, 'sift': 0.123, 'greetings': 0.123, 'preparation': 0.123, 'polack': 0.556, 'highness': 0.123, 'whereat': 0.123, 'griev’d': 0.123, 'sickness': 0.26, 'impotence': 0.123, 'falsely': 0.123, 'borne': 0.405, 'sends': 0.556, 'arrests': 0.123, 'obeys': 0.123, 'receives': 0.123, 'rebuke': 0.123, 'fine': 1.562, 'th’assay': 0.123, 'whereon': 0.714, 'overcome': 0.123, 'gives': 1.212, 'three': 1.212, 'thousand': 1.746, 'crowns': 0.123, 'annual': 0.123, 'commission': 0.714, 'employ': 0.123, 'levied': 0.123, 'shown': 0.123, 'paper': 0.123, 'pass': 0.87, 'dominions': 0.123, 'regards': 0.123, 'allowance': 0.26, 'therein': 0.123, 'likes': 0.405, 'consider’d': 0.123, 'read': 0.714, 'meantime': 0.26, 'thank': 1.385, 'well-took': 0.123, 'labour': 0.26, 'home': 0.87, 'ended': 0.123, 'expostulate': 0.123, 'brevity': 0.123, 'tediousness': 0.123, 'limbs': 0.26, 'outward': 0.405, 'flourishes': 0.123, 'define': 0.123, 'foolish': 0.405, 'grant': 0.123, 'remains': 0.405, 'rather': 0.714, 'defective': 0.123, 'remainder': 0.123, 'perpend': 0.123, 'daughter—have': 0.123, 'mine—': 0.123, 'obedience': 0.26, 'surmise': 0.123, 'reads': 0.714, 'soul’s': 0.123, 'idol': 0.123, 'beautified': 0.123, 'ill': 0.87, '‘beautified’': 0.123, 'white': 0.556, '&c': 0.87, 'faithful': 0.405, 'liar': 0.123, 'numbers': 0.26, 'reckon': 0.123, 'groans': 0.123, 'evermore': 0.123, 'lady': 2.295, 'machine': 0.123, 'show’d': 0.123, 'solicitings': 0.123, 'receiv’d': 0.26, 'fain': 0.556, 'prove': 0.405, 'wing': 0.123, 'perceiv’d': 0.123, 'play’d': 0.26, 'desk': 0.123, 'table-book': 0.123, 'winking': 0.123, 'mute': 0.123, 'idle': 0.405, 'round': 0.87, 'mistress': 0.405, 'bespeak': 0.123, '‘lord': 0.123, 'gave': 1.212, 'lock': 0.26, 'herself': 0.87, 'resort': 0.123, 'admit': 0.26, 'tokens': 0.123, 'fruits': 0.123, 'repulsed': 0.123, 'short': 0.714, 'make—': 0.123, 'sadness': 0.123, 'thence': 0.556, 'weakness': 0.26, 'lightness': 0.123, 'declension': 0.123, 'raves': 0.123, 'wail': 0.123, 'likely': 0.26, 'i’d': 0.123, 'positively': 0.123, '‘’tis': 0.123, 'prov’d': 0.405, 'otherwise': 0.405, 'points': 0.26, 'circumstances': 0.123, 'hid': 0.26, 'centre': 0.123, 'try': 0.87, 'four': 0.714, 'hours': 0.26, 'lobby': 0.26, 'loose': 0.26, 'behind': 1.385, 'arras': 0.714, 'encounter': 0.405, 'fall’n': 0.26, 'thereon': 0.123, 'farm': 0.26, 'carters': 0.123, 'reading': 0.26, 'sadly': 0.123, 'board': 0.123, 'presently': 0.714, 'god-a-mercy': 0.123, 'you’re': 0.123, 'fishmonger': 0.26, 'picked': 0.26, 'ten': 0.556, 'breed': 0.26, 'maggots': 0.26, 'dog': 0.26, 'kissing': 0.123, 'carrion': 0.123, 'conception': 0.123, 'conceive': 0.123, 'harping': 0.123, 'suffered': 0.123, 'extremity': 0.26, '—what': 0.123, 'slanders': 0.123, 'satirical': 0.123, 'slave': 0.714, 'grey': 0.123, 'beards': 0.123, 'faces': 0.26, 'wrinkled': 0.123, 'purging': 0.26, 'thick': 0.405, 'amber': 0.123, 'plum-tree': 0.123, 'gum': 0.123, 'plentiful': 0.123, 'hams': 0.123, 'powerfully': 0.123, 'potently': 0.123, 'honesty': 0.714, 'crab': 0.123, 'backward': 0.123, 'method': 0.26, 'pregnant': 0.26, 'replies': 0.123, 'happiness': 0.123, 'hits': 0.405, 'sanity': 0.123, 'prosperously': 0.123, 'delivered': 0.123, 'suddenly': 0.123, 'anything': 0.714, 'except': 0.405, 'tedious': 0.26, 'save': 0.714, 'honoured': 0.123, 'dost': 2.295, 'ah': 0.405, 'lads': 0.123, 'indifferent': 0.405, 'children': 0.405, 'happy': 0.405, 'over-happy': 0.123, 'cap': 0.26, 'button': 0.123, 'soles': 0.123, 'shoe': 0.123, 'waist': 0.123, 'favours': 0.26, 'privates': 0.123, 'parts': 0.405, 'fortune': 1.746, 'strumpet': 0.26, 'world’s': 0.26, 'deserved': 0.123, 'prison': 0.714, 'denmark’s': 0.405, 'confines': 0.123, 'wards': 0.123, 'dungeons': 0.123, 'worst': 0.123, 'either': 0.87, 'bad': 0.87, 'ambition': 0.87, 'narrow': 0.123, 'bounded': 0.123, 'nutshell': 0.123, 'count': 0.405, 'space': 0.123, 'dreams': 0.405, 'ambitious': 0.26, 'shadow': 0.405, 'airy': 0.123, 'quality': 0.556, 'shadow’s': 0.123, 'beggars': 0.123, 'bodies': 0.87, 'monarchs': 0.123, 'outstretch’d': 0.123, 'heroes': 0.123, 'beggars’': 0.123, 'shadows': 0.123, 'fay': 0.123, 'wait': 0.26, 'dreadfully': 0.123, 'attended': 0.26, 'beaten': 0.123, 'friendship': 0.123, 'beggar': 0.405, 'halfpenny': 0.123, 'inclining': 0.123, 'deal': 0.123, 'justly': 0.405, 'confession': 0.405, 'modesties': 0.123, 'craft': 0.26, 'conjure': 0.123, 'rights': 0.26, 'fellowship': 0.26, 'consonancy': 0.123, 'ever-preserved': 0.123, 'proposer': 0.123, 'anticipation': 0.123, 'prevent': 0.26, 'discovery': 0.123, 'moult': 0.123, 'feather': 0.123, 'forgone': 0.123, 'exercises': 0.123, 'heavily': 0.123, 'sterile': 0.123, 'promontory': 0.123, 'canopy': 0.123, 'brave': 0.405, 'o’erhanging': 0.123, 'firmament': 0.123, 'roof': 0.123, 'fretted': 0.123, 'golden': 0.405, 'pestilent': 0.26, 'congregation': 0.123, 'vapours': 0.123, 'faculties': 0.26, 'moving': 0.123, 'express': 0.26, 'admirable': 0.123, 'apprehension': 0.26, 'paragon': 0.123, 'animals': 0.123, 'quintessence': 0.123, 'delights': 0.405, 'stuff': 0.405, 'laugh': 0.87, '‘man': 0.123, 'me’': 0.123, 'lenten': 0.123, 'coted': 0.123, 'plays': 0.123, '—his': 0.123, 'tribute': 0.26, 'adventurous': 0.123, 'knight': 0.123, 'foil': 0.26, 'target': 0.123, 'lover': 0.123, 'gratis': 0.123, 'humorous': 0.123, 'clown': 9.592, 'lungs': 0.26, 'tickle': 0.123, 'a’': 0.123, 'sere': 0.123, 'blank': 0.26, 'verse': 0.123, 'halt': 0.123, 'for’t': 0.26, 'in—the': 0.123, 'tragedians': 0.123, 'city': 0.26, 'travel': 0.26, 'residence': 0.123, 'reputation': 0.123, 'inhibition': 0.123, 'innovation': 0.123, 'estimation': 0.123, 'rusty': 0.123, 'endeavour': 0.123, 'wonted': 0.26, 'pace': 0.26, 'ayry': 0.123, 'eyases': 0.123, 'cry': 0.714, 'tyrannically': 0.123, 'clapped': 0.123, 'berattle': 0.123, 'stages—so': 0.123, 'them—that': 0.123, 'wearing': 0.123, 'rapiers': 0.405, 'afraid': 0.123, 'goose-quills': 0.123, 'scarce': 0.26, 'thither': 0.405, 'maintains': 0.123, '’em': 0.26, 'escoted': 0.123, 'pursue': 0.26, 'sing': 0.714, 'afterwards': 0.123, 'themselves': 0.714, 'players—as': 0.123, 'better—their': 0.123, 'writers': 0.123, 'exclaim': 0.123, 'succession': 0.26, 'sides': 0.405, 'nation': 0.405, 'tarre': 0.123, 'controversy': 0.123, 'argument': 0.556, 'unless': 0.405, 'poet': 0.123, 'player': 3.448, 'cuffs': 0.123, 'possible': 0.556, 'throwing': 0.123, 'brains': 0.714, 'boys': 0.123, 'carry': 0.405, 'load': 0.123, 'mouths': 0.26, 'lived': 0.123, 'twenty': 0.405, 'forty': 0.26, 'fifty': 0.123, 'ducats': 0.405, 'apiece': 0.123, 'picture': 0.26, '’sblood': 0.26, 'appurtenance': 0.123, 'ceremony': 0.405, 'comply': 0.26, 'garb': 0.123, 'lest': 0.556, 'extent': 0.123, 'fairly': 0.123, 'yours': 0.87, 'uncle-father': 0.123, 'aunt-mother': 0.123, 'deceived': 0.26, 'north-north-west': 0.123, 'southerly': 0.123, 'hawk': 0.123, 'handsaw': 0.123, 'hark': 0.123, 'hearer': 0.123, 'swaddling': 0.123, 'clouts': 0.123, 'child': 0.26, 'prophesy': 0.26, '—you': 0.123, 'monday': 0.123, '’twas': 0.714, 'roscius': 0.123, 'actor': 0.405, 'rome—': 0.123, 'actors': 0.26, 'buzz': 0.26, 'ass—': 0.123, 'comedy': 0.26, 'history': 0.26, 'pastoral': 0.123, 'pastoral-comical': 0.123, 'historical-pastoral': 0.123, 'tragical-historical': 0.123, 'tragical-comical-historical-pastoral': 0.123, 'individable': 0.123, 'poem': 0.123, 'unlimited': 0.123, 'seneca': 0.123, 'heavy': 0.87, 'plautus': 0.123, 'only': 0.87, 'jephthah': 0.405, 'judge': 0.405, 'israel': 0.123, 'hadst': 0.405, 'why—': 0.123, '’one': 0.123, 'loved': 0.405, 'lot': 0.123, 'wot': 0.123, 'row': 0.123, 'chanson': 0.123, 'abridgement': 0.123, 'five': 0.405, 'masters': 0.405, 'valanc’d': 0.123, 'by’r': 0.26, 'ladyship': 0.123, 'altitude': 0.123, 'chopine': 0.123, 'uncurrent': 0.123, 'gold': 0.123, 'cracked': 0.123, 'ring': 0.26, 'french': 0.714, 'falconers': 0.123, 'fly': 0.714, 'straight': 0.556, 'taste': 0.123, 'passionate': 0.26, 'acted': 0.123, 'pleased': 0.123, 'million': 0.123, 'caviare': 0.123, 'was—as': 0.123, 'received': 0.123, 'others': 0.87, 'judgments': 0.405, 'matters': 0.26, 'mine—an': 0.123, 'digested': 0.123, 'scenes': 0.123, 'modesty': 0.556, 'cunning': 0.556, 'sallets': 0.123, 'lines': 0.405, 'savoury': 0.123, 'indite': 0.123, 'author': 0.26, 'affectation': 0.123, 'called': 0.123, 'handsome': 0.123, 'chiefly': 0.123, 'aeneas’': 0.123, 'dido': 0.123, 'thereabout': 0.123, 'especially': 0.26, 'speaks': 0.87, 'priam’s': 0.123, 'slaughter': 0.123, 'begin': 0.714, 'line': 0.26, 'rugged': 0.26, 'pyrrhus': 0.87, 'hyrcanian': 0.123, 'begins': 0.26, 'pyrrhus—': 0.123, 'resemble': 0.123, 'couched': 0.123, 'ominous': 0.123, 'horse': 0.405, 'smear’d': 0.123, 'dismal': 0.26, 'total': 0.123, 'gules': 0.123, 'trick’d': 0.123, 'mothers': 0.123, 'daughters': 0.123, 'sons': 0.123, 'impasted': 0.123, 'parching': 0.123, 'tyrannous': 0.123, 'murders': 0.123, 'roasted': 0.123, 'wrath': 0.123, 'o’ersized': 0.123, 'coagulate': 0.123, 'gore': 0.123, 'carbuncles': 0.123, 'hellish': 0.123, 'grandsire': 0.123, 'priam': 0.556, 'seeks': 0.26, 'proceed': 0.26, '’fore': 0.123, 'spoken': 0.26, 'accent': 0.26, 'anon': 0.87, 'finds': 0.405, 'striking': 0.123, 'greeks': 0.123, 'antique': 0.26, 'rebellious': 0.26, 'repugnant': 0.123, 'unequal': 0.123, 'match’d': 0.123, 'drives': 0.123, 'rage': 0.405, 'strikes': 0.123, 'whiff': 0.123, 'th’unnerved': 0.123, 'senseless': 0.26, 'ilium': 0.123, 'seeming': 0.405, 'feel': 0.123, 'blow': 0.405, 'flaming': 0.26, 'stoops': 0.123, 'crash': 0.123, 'prisoner': 0.26, 'pyrrhus’': 0.405, 'declining': 0.123, 'milky': 0.123, 'reverend': 0.123, 'th’air': 0.123, 'stick': 0.405, 'painted': 0.26, 'tyrant': 0.123, 'neutral': 0.123, 'storm': 0.123, 'rack': 0.123, 'bold': 0.405, 'speechless': 0.123, 'orb': 0.123, 'below': 0.405, 'hush': 0.123, 'rend': 0.123, 'region': 0.26, 'pause': 0.556, 'aroused': 0.123, 'vengeance': 0.26, 'sets': 0.26, 'new': 0.405, 'a-work': 0.123, 'cyclops’': 0.123, 'hammers': 0.123, 'fall': 1.385, 'mars’s': 0.123, 'forg’d': 0.123, 'proof': 0.87, 'eterne': 0.123, 'remorse': 0.123, 'bleeding': 0.123, 'gods': 0.405, 'synod': 0.123, 'spokes': 0.26, 'fellies': 0.123, 'wheel': 0.405, 'bowl': 0.123, 'nave': 0.123, 'low': 0.123, 'fiends': 0.123, 'barber’s': 0.123, '—prythee': 0.26, 'jig': 0.26, 'bawdry': 0.123, 'sleeps': 0.556, 'hecuba': 0.556, 'mobled': 0.26, '‘the': 0.123, 'queen’': 0.26, '‘mobled': 0.123, 'run': 0.26, 'barefoot': 0.123, 'threat’ning': 0.123, 'bisson': 0.123, 'rheum': 0.123, 'clout': 0.123, 'diadem': 0.26, 'robe': 0.123, 'lank': 0.123, 'o’erteemed': 0.123, 'loins': 0.123, 'blanket': 0.123, 'th’alarm': 0.123, 'caught': 0.26, 'up—': 0.123, 'venom': 0.26, 'steep’d': 0.123, 'treason': 0.714, 'pronounc’d': 0.123, 'sport': 0.405, 'mincing': 0.123, 'husband’s': 0.26, 'clamour': 0.123, 'mortal': 0.714, 'milch': 0.123, 'burning': 0.26, 'soon': 0.123, 'bestowed': 0.123, 'used': 0.123, 'abstracts': 0.123, 'chronicles': 0.123, 'epitaph': 0.26, 'desert': 0.26, 'bodikin': 0.123, 'scape': 0.26, 'whipping': 0.123, 'deserve': 0.123, 'merit': 0.26, 'bounty': 0.123, 'tomorrow': 0.556, 'gonzago': 0.405, 'ha’t': 0.26, 'study': 0.123, 'dozen': 0.405, 'sixteen': 0.123, 'insert': 0.123, 'rogue': 0.26, 'peasant': 0.26, 'monstrous': 0.123, 'fiction': 0.123, 'force': 0.405, 'conceit': 0.714, 'wan’d': 0.123, 'distraction': 0.26, 'aspect': 0.123, 'broken': 0.123, 'function': 0.123, 'suiting': 0.123, 'weep': 0.556, 'cue': 0.123, 'drown': 0.714, 'cleave': 0.123, 'horrid': 0.26, 'appal': 0.123, 'confound': 0.26, 'ignorant': 0.405, 'amaze': 0.123, 'muddy-mettled': 0.123, 'rascal': 0.123, 'peak': 0.123, 'john-a-dreams': 0.123, 'unpregnant': 0.123, 'defeat': 0.26, 'coward': 0.26, 'calls': 0.556, 'breaks': 0.26, 'pate': 0.556, 'across': 0.123, 'plucks': 0.26, 'tweaks': 0.123, 'nose': 0.26, 'lie': 1.562, '’swounds': 0.26, 'pigeon-liver’d': 0.123, 'gall': 0.26, 'oppression': 0.123, 'fatted': 0.123, 'kites': 0.123, 'slave’s': 0.123, 'offal': 0.123, 'bloody': 1.045, 'bawdy': 0.123, 'remorseless': 0.123, 'treacherous': 0.26, 'lecherous': 0.123, 'kindless': 0.123, 'ass': 0.405, 'murder’d': 0.123, 'prompted': 0.123, 'whore': 0.123, 'unpack': 0.123, 'a-cursing': 0.123, 'drab': 0.123, 'scullion': 0.123, 'upon’t': 0.26, 'foh': 0.123, 'creatures': 0.405, 'sitting': 0.123, 'proclaim’d': 0.123, 'malefactions': 0.123, 'miraculous': 0.123, 'organ': 0.405, 'tent': 0.123, 'quick': 1.212, 'blench': 0.123, 'devil': 1.212, 't’assume': 0.123, 'pleasing': 0.123, 'melancholy': 0.26, 'potent': 0.26, 'abuses': 0.123, 'damn': 0.123, 'grounds': 0.123, 'relative': 0.123, 'play’s': 0.123, 'conscience': 1.212, 'confusion': 0.123, 'grating': 0.123, 'harshly': 0.123, 'turbulent': 0.123, 'dangerous': 0.714, 'feels': 0.123, 'sounded': 0.123, 'crafty': 0.123, 'aloof': 0.26, 'forcing': 0.123, 'niggard': 0.123, 'assay': 0.26, 'pastime': 0.26, 'o’er-raught': 0.123, 'order': 0.405, 'beseech’d': 0.123, 'content': 0.405, 'inclin’d': 0.123, 'drive': 0.26, 'closely': 0.123, 'accident': 0.405, 'affront': 0.123, 'lawful': 0.123, 'espials': 0.123, 'bestow': 0.556, 'unseen': 0.405, 'frankly': 0.26, 'behav’d': 0.123, 'th’affliction': 0.123, 'suffers': 0.405, 'wish': 0.405, 'beauties': 0.123, 'wildness': 0.123, 'honours': 0.123, '—gracious': 0.123, '—[': 0.123, 'exercise': 0.26, 'loneliness': 0.123, '—we': 0.123, 'blame': 0.405, 'devotion’s': 0.123, 'sugar': 0.123, 'smart': 0.123, 'lash': 0.123, 'harlot’s': 0.123, 'cheek': 0.26, 'beautied': 0.123, 'plastering': 0.123, 'ugly': 0.123, 'helps': 0.123, 'burden': 0.123, 'withdraw': 0.405, 'nobler': 0.123, 'suffer': 0.405, 'slings': 0.123, 'arrows': 0.26, 'outrageous': 0.123, 'opposing': 0.123, 'die—to': 0.123, 'heart-ache': 0.123, 'shocks': 0.123, 'heir': 0.123, 'consummation': 0.123, 'devoutly': 0.123, 'wish’d': 0.123, 'dream—ay': 0.123, 'rub': 0.26, 'shuffled': 0.123, 'coil': 0.123, 'respect': 0.26, 'calamity': 0.123, 'whips': 0.26, 'scorns': 0.123, 'oppressor’s': 0.123, 'proud': 0.405, 'contumely': 0.123, 'pangs': 0.123, 'dispriz’d': 0.123, 'law’s': 0.123, 'delay': 0.26, 'insolence': 0.123, 'office': 0.123, 'spurns': 0.26, 'patient': 0.405, 'unworthy': 0.26, 'quietus': 0.123, 'bare': 0.123, 'bodkin': 0.123, 'fardels': 0.123, 'grunt': 0.123, 'sweat': 0.26, 'undiscover’d': 0.123, 'bourn': 0.123, 'traveller': 0.123, 'returns': 0.26, 'puzzles': 0.123, 'ills': 0.123, 'cowards': 0.123, 'hue': 0.123, 'resolution': 0.123, 'sicklied': 0.123, 'enterprises': 0.123, 'regard': 0.26, 'currents': 0.26, 'turn': 1.045, 'awry': 0.123, 'nymph': 0.123, 'orisons': 0.123, 'sins': 0.123, 'remember’d': 0.123, 'remembrances': 0.123, 'longed': 0.123, 're-deliver': 0.26, 'compos’d': 0.123, 'wax': 0.26, 'givers': 0.123, 'unkind': 0.123, 'commerce': 0.123, 'sooner': 0.26, 'transform': 0.123, 'bawd': 0.123, 'translate': 0.26, 'likeness': 0.123, 'paradox': 0.123, 'believed': 0.123, 'inoculate': 0.123, 'stock': 0.123, 'relish': 0.26, 'nunnery': 0.714, 'breeder': 0.123, 'sinners': 0.123, 'accuse': 0.123, 'revengeful': 0.123, 'offences': 0.123, 'beck': 0.123, 'fellows': 0.405, 'crawling': 0.123, 'knaves': 0.123, 'where’s': 0.26, 'shut': 0.123, 'nowhere': 0.123, 'plague': 0.26, 'dowry': 0.123, 'snow': 0.556, 'escape': 0.26, 'calumny': 0.123, 'wise': 0.26, 'monsters': 0.123, 'quickly': 0.123, 'heavenly': 0.26, 'powers': 0.405, 'restore': 0.123, 'paintings': 0.123, 'yourselves': 0.123, 'amble': 0.123, 'lisp': 0.123, 'nickname': 0.123, 'wantonness': 0.123, 'marriages': 0.123, 'o’erthrown': 0.123, 'courtier’s': 0.123, 'soldier’s': 0.123, 'scholar’s': 0.123, 'th’expectancy': 0.123, 'rose': 0.556, 'glass': 0.26, 'mould': 0.123, 'th’observ’d': 0.123, 'observers': 0.123, 'quite': 0.556, 'deject': 0.123, 'wretched': 0.556, 'suck’d': 0.26, 'honey': 0.123, 'bells': 0.123, 'jangled': 0.123, 'tune': 0.26, 'harsh': 0.26, 'unmatch’d': 0.123, 'feature': 0.26, 'blown': 0.26, 'blasted': 0.26, 't’have': 0.123, 'affections': 0.123, 'spake': 0.123, 'lack’d': 0.123, 'brood': 0.123, 'hatch': 0.123, 'disclose': 0.123, 'determination': 0.123, 'england': 3.448, 'demand': 0.26, 'neglected': 0.26, 'haply': 0.405, 'seas': 0.123, 'countries': 0.123, 'different': 0.123, 'variable': 0.26, 'objects': 0.123, 'expel': 0.123, 'settled': 0.26, 'commencement': 0.123, 'sprung': 0.123, 'plac’d': 0.26, 'conference': 0.123, 'send': 0.556, 'ones': 0.26, 'unwatch’d': 0.123, 'pronounced': 0.123, 'trippingly': 0.123, 'lief': 0.123, 'town-crier': 0.123, 'gently': 0.123, 'torrent': 0.123, 'tempest': 0.123, 'whirlwind': 0.123, 'acquire': 0.123, 'beget': 0.123, 'temperance': 0.123, 'smoothness': 0.123, 'offends': 0.123, 'robustious': 0.123, 'periwig-pated': 0.123, 'tear': 0.405, 'tatters': 0.123, 'rags': 0.123, 'split': 0.123, 'groundlings': 0.123, 'capable': 0.26, 'inexplicable': 0.123, 'noise': 1.212, 'whipped': 0.123, 'o’erdoing': 0.123, 'termagant': 0.123, 'out-herods': 0.123, 'herod': 0.123, 'tame': 0.405, 'tutor': 0.123, 'special': 0.405, 'o’erstep': 0.123, 'overdone': 0.26, 'playing': 0.26, 'mirror': 0.26, 'scorn': 0.123, 'pressure': 0.123, 'tardy': 0.26, 'unskilful': 0.123, 'judicious': 0.123, 'grieve': 0.26, 'o’erweigh': 0.123, 'theatre': 0.123, 'play—and': 0.123, 'praise': 0.26, 'highly—not': 0.123, 'profanely': 0.123, 'christians': 0.123, 'christian': 0.87, 'pagan': 0.123, 'strutted': 0.123, 'bellowed': 0.123, 'journeymen': 0.123, 'imitated': 0.123, 'humanity': 0.123, 'abominably': 0.123, 'reform’d': 0.123, 'indifferently': 0.123, 'reform': 0.123, 'altogether': 0.123, 'quantity': 0.556, 'barren': 0.123, 'spectators': 0.123, 'necessary': 0.26, 'considered': 0.123, 'villanous': 0.123, 'pitiful': 0.123, 'ready': 0.556, 'hasten': 0.123, 'just': 0.26, 'e’er': 0.123, 'conversation': 0.123, 'cop’d': 0.123, 'flatter': 0.123, 'advancement': 0.26, 'revenue': 0.123, 'feed': 0.87, 'clothe': 0.123, 'flatter’d': 0.123, 'candied': 0.123, 'lick': 0.123, 'pomp': 0.123, 'crook': 0.123, 'hinges': 0.123, 'knee': 0.123, 'fawning': 0.123, 'distinguish': 0.123, 'election': 0.123, 'suffering': 0.123, 'buffets': 0.123, 'rewards': 0.26, 'bles’d': 0.26, 'co-mingled': 0.123, 'pipe': 0.405, 'finger': 0.26, 'passion’s': 0.123, 'wear': 0.556, 'heart’s': 0.123, 'core': 0.123, 'prythee': 0.26, 'see’st': 0.123, 'a-foot': 0.123, 'comment': 0.123, 'occulted': 0.123, 'guilt': 0.405, 'unkennel': 0.123, 'imaginations': 0.123, 'vulcan’s': 0.123, 'stithy': 0.123, 'heedful': 0.123, 'rivet': 0.123, 'join': 0.26, 'steal': 0.123, 'detecting': 0.123, 'theft': 0.123, 'danish': 0.87, 'fares': 0.26, 'chameleon’s': 0.123, 'dish': 0.123, 'eat': 0.714, 'promise-crammed': 0.123, 'capons': 0.123, 'th’university': 0.123, 'accounted': 0.123, 'enact': 0.26, 'caesar': 0.26, 'kill’d': 0.87, 'capitol': 0.123, 'brutus': 0.123, 'killed': 0.123, 'brute': 0.123, 'kill': 0.556, 'capital': 0.26, 'calf': 0.123, 'patience': 0.714, 'metal': 0.123, 'attractive': 0.123, 'lap': 0.26, 'lying': 0.26, 'ophelia’s': 0.123, 'maids’': 0.123, 'legs': 0.123, 'merry': 0.26, 'jig-maker': 0.123, 'cheerfully': 0.26, 'within’s': 0.123, 'sables': 0.26, 'ago': 0.123, 'forgotten': 0.123, 'outlive': 0.123, 'half': 0.714, 'year': 0.714, 'build': 0.123, 'churches': 0.123, 'hobby-horse': 0.26, '‘for': 0.123, 'forgot': 0.714, 'enters': 0.123, 'lovingly': 0.123, 'embracing': 0.123, 'kneels': 0.26, 'protestation': 0.123, 'declines': 0.123, 'neck': 0.405, 'lays': 0.123, 'bank': 0.123, 'flowers': 0.556, 'asleep': 0.26, 'leaves': 0.405, 'kisses': 0.405, 'pours': 0.26, 'poison': 0.87, 'exits': 0.123, 'poisoner': 0.26, 'mutes': 0.26, 'lament': 0.26, 'carried': 0.123, 'woos': 0.123, 'loth': 0.123, 'unwilling': 0.123, 'accepts': 0.123, 'miching': 0.123, 'mallicho': 0.123, 'mischief': 0.123, 'belike': 0.26, 'imports': 0.556, 'counsel': 0.405, 'they’ll': 0.123, 'ashamed': 0.123, 'he’ll': 0.123, 'naught': 0.26, 'stooping': 0.123, 'clemency': 0.123, 'patiently': 0.123, 'posy': 0.123, 'woman’s': 0.123, 'thirty': 0.405, 'phoebus’': 0.123, 'cart': 0.123, 'wash': 0.26, 'tellus’': 0.123, 'orbed': 0.123, 'moons': 0.123, 'borrow’d': 0.123, 'sheen': 0.123, 'thirties': 0.123, 'hymen': 0.123, 'unite': 0.123, 'commutual': 0.123, 'sacred': 0.123, 'bands': 0.123, 'journeys': 0.123, 'distrust': 0.26, 'discomfort': 0.123, 'women’s': 0.123, 'siz’d': 0.123, 'littlest': 0.123, 'doubts': 0.123, 'fears': 0.26, 'shortly': 0.556, 'operant': 0.123, 'functions': 0.123, 'belov’d': 0.123, 'husband': 1.212, 'thou—': 0.123, 'breast': 0.123, 'accurst': 0.123, 'wed': 0.405, 'wormwood': 0.26, 'instances': 0.123, 'respects': 0.123, 'determine': 0.123, 'validity': 0.123, 'unripe': 0.123, 'sticks': 0.123, 'tree': 0.123, 'unshaken': 0.123, 'mellow': 0.123, 'debt': 0.123, 'ending': 0.123, 'enactures': 0.123, 'destroy': 0.26, 'revels': 0.123, 'joys': 0.26, 'grieves': 0.123, 'slender': 0.123, 'aye': 0.123, 'fortunes': 0.26, 'favourite': 0.123, 'flies': 0.123, 'advanc’d': 0.123, 'enemies': 0.26, 'want': 0.26, 'hollow': 0.123, 'directly': 0.26, 'seasons': 0.123, 'orderly': 0.123, 'begun': 0.556, 'wills': 0.123, 'contrary': 0.123, 'devices': 0.123, 'overthrown': 0.123, 'ours': 0.26, 'ends': 0.26, 'repose': 0.123, 'trust': 0.26, 'anchor’s': 0.123, 'opposite': 0.123, 'blanks': 0.123, 'hence': 0.556, 'strife': 0.123, 'widow': 0.123, 'deeply': 0.123, 'rock': 0.123, 'mischance': 0.26, 'twain': 0.26, 'protests': 0.123, 'she’ll': 0.26, 'jest': 0.405, 'mousetrap': 0.123, 'tropically': 0.123, 'vienna': 0.123, 'duke’s': 0.123, 'baptista': 0.123, 'knavish': 0.26, 'touches': 0.123, 'gall’d': 0.123, 'jade': 0.123, 'wince': 0.123, 'withers': 0.123, 'unwrung': 0.123, 'lucianus': 0.405, 'nephew': 0.26, 'chorus': 0.123, 'interpret': 0.123, 'puppets': 0.123, 'dallying': 0.123, 'keen': 0.26, 'cost': 0.26, 'groaning': 0.123, 'worse': 0.405, 'mistake': 0.123, 'husbands': 0.123, '—begin': 0.123, 'murderer': 0.405, 'pox': 0.123, 'damnable': 0.123, 'croaking': 0.123, 'raven': 0.123, 'bellow': 0.123, 'drugs': 0.123, 'agreeing': 0.123, 'confederate': 0.123, 'creature': 0.26, 'mixture': 0.123, 'midnight': 0.123, 'weeds': 0.556, 'collected': 0.26, 'hecate’s': 0.123, 'ban': 0.123, 'infected': 0.123, 'magic': 0.123, 'dire': 0.123, 'usurp': 0.123, 'immediately': 0.123, 'sleeper’s': 0.123, 'poisons': 0.123, 'th’garden': 0.123, 'for’s': 0.26, 'estate': 0.405, 'name’s': 0.123, 'extant': 0.123, 'written': 0.123, 'italian': 0.123, 'gets': 0.123, 'gonzago’s': 0.123, 'rises': 0.405, 'frighted': 0.123, 'lights': 0.556, 'strucken': 0.123, 'deer': 0.123, 'hart': 0.123, 'ungalled': 0.123, 'runs': 0.26, 'forest': 0.123, 'feathers': 0.123, 'turk': 0.123, 'provincial': 0.123, 'roses': 0.123, 'razed': 0.123, 'share': 0.123, 'damon': 0.123, 'realm': 0.123, 'dismantled': 0.123, 'jove': 0.26, 'reigns': 0.123, 'very—pajock': 0.123, 'rhymed': 0.123, 'ghost’s': 0.123, 'pound': 0.123, 'perceive': 0.123, 'poisoning': 0.123, 'recorders': 0.405, 'perdie': 0.123, 'sir—': 0.123, 'retirement': 0.123, 'distempered': 0.123, 'choler': 0.26, 'richer': 0.26, 'signify': 0.26, 'doctor': 0.123, 'purgation': 0.123, 'plunge': 0.123, 'wildly': 0.26, 'pronounce': 0.123, 'affliction': 0.26, 'courtesy': 0.123, 'wit’s': 0.123, 'diseased': 0.123, 'amazement': 0.26, 'stonish': 0.123, 'sequel': 0.123, 'heels': 0.405, 'closet': 0.405, 'trade': 0.26, 'pickers': 0.123, 'stealers': 0.123, 'surely': 0.123, 'bar': 0.123, 'door': 0.87, 'deny': 0.26, 'griefs': 0.123, 'grass': 0.26, 'grows—the': 0.123, 'proverb': 0.123, 'musty': 0.123, '—to': 0.123, 'toil': 0.123, 'unmannerly': 0.123, 'easy': 0.26, 'govern': 0.123, 'ventages': 0.123, 'thumb': 0.123, 'eloquent': 0.123, 'stops': 0.26, 'utterance': 0.123, 'harmony': 0.123, 'skill': 0.405, 'pluck': 0.405, 'mystery': 0.123, 'lowest': 0.123, 'compass': 0.123, 'easier': 0.123, 'played': 0.123, 'instrument': 0.26, 'fret': 0.123, 'bless': 0.405, 'yonder': 0.26, 'cloud': 0.123, 'camel': 0.26, 'weasel': 0.26, 'backed': 0.123, 'whale': 0.26, '—they': 0.123, 'easily': 0.123, 'witching': 0.123, 'churchyards': 0.123, 'yawn': 0.123, 'breathes': 0.123, 'contagion': 0.26, 'quake': 0.123, 'nero': 0.123, 'firm': 0.123, 'cruel': 0.26, 'daggers': 0.26, 'hypocrites': 0.123, 'somever': 0.123, 'shent': 0.123, 'seals': 0.123, 'safe': 0.26, 'range': 0.123, 'prepare': 0.405, 'forthwith': 0.123, 'endure': 0.123, 'hazard': 0.123, 'hourly': 0.123, 'lunacies': 0.123, 'provide': 0.123, 'religious': 0.123, 'single': 0.26, 'peculiar': 0.123, 'strength': 0.26, '’noyance': 0.123, 'weal': 0.123, 'depend': 0.123, 'cease': 0.26, 'dies': 1.212, 'gulf': 0.123, 'massy': 0.123, 'highest': 0.123, 'mount': 0.26, 'huge': 0.123, 'lesser': 0.123, 'mortis’d': 0.123, 'adjoin’d': 0.123, 'small': 0.123, 'annexment': 0.123, 'attends': 0.123, 'boist’rous': 0.123, 'ruin': 0.123, 'groan': 0.123, 'speedy': 0.123, 'voyage': 0.26, 'fetters': 0.123, 'free-footed': 0.123, 'convey': 0.123, 'tax': 0.123, 'partial': 0.123, 'o’erhear': 0.123, 'vantage': 0.26, 'smells': 0.123, 'primal': 0.123, 'eldest': 0.123, 'curse': 0.123, 'sharp': 0.123, 'stronger': 0.556, 'defeats': 0.123, 'neglect': 0.123, 'thicker': 0.123, 'rain': 0.123, 'whereto': 0.556, 'serves': 0.26, 'confront': 0.123, 'prayer': 0.26, 'twofold': 0.123, 'forestalled': 0.123, 'pardon’d': 0.26, 'serve': 0.26, 'forgive': 0.26, 'possess’d': 0.123, 'effects': 0.26, 'retain': 0.123, 'th’offence': 0.26, 'corrupted': 0.123, 'offence’s': 0.123, 'gilded': 0.123, 'shove': 0.123, 'justice': 0.123, 'prize': 0.123, 'buys': 0.123, 'shuffling': 0.26, 'compell’d': 0.123, 'teeth': 0.26, 'forehead': 0.26, 'evidence': 0.123, 'rests': 0.123, 'repentance': 0.123, 'repent': 0.405, 'limed': 0.123, 'struggling': 0.123, 'engag’d': 0.123, 'stubborn': 0.123, 'strings': 0.123, 'new-born': 0.123, 'babe': 0.123, 'retires': 0.123, 'pat': 0.123, 'praying': 0.123, 'reveng’d': 0.405, 'scann’d': 0.123, 'kills': 0.26, 'sole': 0.123, 'hire': 0.123, 'salary': 0.123, 'grossly': 0.123, 'bread': 0.123, 'broad': 0.26, 'flush': 0.123, 'audit': 0.123, 'season’d': 0.123, 'passage': 0.26, 'hent': 0.123, 'drunk': 0.123, 'th’incestuous': 0.123, 'pleasure': 0.556, 'salvation': 0.26, 'trip': 0.123, 'kick': 0.123, 'stays': 0.123, 'physic': 0.123, 'prolongs': 0.123, 'sickly': 0.26, 'advances': 0.123, 'pranks': 0.123, 'screen’d': 0.123, 'rood': 0.123, 'budge': 0.123, 'inmost': 0.123, 'rat': 0.405, 'ducat': 0.123, 'slain': 0.87, 'rash': 0.405, 'intruding': 0.123, 'find’st': 0.123, 'busy': 0.123, 'wringing': 0.123, 'wring': 0.123, 'penetrable': 0.123, 'braz’d': 0.123, 'bulwark': 0.123, 'dar’st': 0.123, 'wag': 0.26, 'rude': 0.26, 'blurs': 0.123, 'blush': 0.26, 'hypocrite': 0.123, 'innocent': 0.123, 'blister': 0.123, 'dicers’': 0.123, 'oaths': 0.123, 'contraction': 0.123, 'religion': 0.123, 'rhapsody': 0.123, 'heaven’s': 0.123, 'glow': 0.123, 'solidity': 0.123, 'compound': 0.123, 'tristful': 0.123, 'doom': 0.123, 'thought-sick': 0.123, 'roars': 0.123, 'thunders': 0.123, 'index': 0.123, 'counterfeit': 0.123, 'presentment': 0.123, 'brothers': 0.26, 'seated': 0.123, 'hyperion’s': 0.123, 'curls': 0.123, 'front': 0.123, 'mars': 0.123, 'threaten': 0.123, 'herald': 0.123, 'mercury': 0.123, 'lighted': 0.123, 'heaven-kissing': 0.123, 'combination': 0.123, 'seal': 0.405, 'assurance': 0.26, 'mildew’d': 0.123, 'blasting': 0.123, 'mountain': 0.405, 'batten': 0.123, 'moor': 0.123, 'hey-day': 0.123, 'it’s': 0.26, 'humble': 0.123, 'waits': 0.123, 'step': 0.26, 'apoplex’d': 0.123, 'err': 0.123, 'ecstacy': 0.123, 'thrall’d': 0.123, 'reserv’d': 0.123, 'difference': 0.26, 'was’t': 0.405, 'cozen’d': 0.123, 'hoodman-blind': 0.123, 'feeling': 0.405, 'smelling': 0.123, 'sans': 0.123, 'mope': 0.123, 'mutine': 0.123, 'matron’s': 0.123, 'proclaim': 0.26, 'compulsive': 0.123, 'ardour': 0.123, 'frost': 0.123, 'actively': 0.123, 'burn': 0.26, 'panders': 0.123, 'turn’st': 0.123, 'grained': 0.123, 'spots': 0.123, 'tinct': 0.123, 'enseamed': 0.123, 'stew’d': 0.123, 'honeying': 0.123, 'nasty': 0.123, 'sty': 0.123, 'twentieth': 0.123, 'tithe': 0.123, 'precedent': 0.26, 'vice': 0.405, 'kings': 0.26, 'cutpurse': 0.123, 'rule': 0.123, 'shelf': 0.123, 'precious': 0.26, 'pocket': 0.123, 'shreds': 0.123, 'patches': 0.123, 'hover': 0.123, 'guards': 0.123, 'chide': 0.123, 'laps’d': 0.123, 'important': 0.123, 'acting': 0.123, 'whet': 0.123, 'blunted': 0.123, 'fighting': 0.26, 'weakest': 0.123, 'strongest': 0.123, 'works': 0.123, 'vacancy': 0.123, 'incorporal': 0.123, 'peep': 0.26, 'alarm': 0.123, 'bedded': 0.123, 'hairs': 0.123, 'excrements': 0.123, 'flame': 0.26, 'sprinkle': 0.123, 'cool': 0.123, 'glares': 0.123, 'conjoin’d': 0.123, 'preaching': 0.123, 'stones': 0.123, '—do': 0.123, 'convert': 0.26, 'stern': 0.123, 'steals': 0.123, 'liv’d': 0.123, 'portal': 0.123, 'coinage': 0.123, 'bodiless': 0.123, 'creation': 0.123, 'pulse': 0.123, 'temperately': 0.123, 'healthful': 0.123, 'utter’d': 0.123, 'test': 0.123, 're-word': 0.123, 'gambol': 0.123, 'flattering': 0.123, 'unction': 0.26, 'trespass': 0.123, 'skin': 0.123, 'film': 0.123, 'ulcerous': 0.123, 'mining': 0.123, 'infects': 0.123, 'spread': 0.26, 'compost': 0.123, 'ranker': 0.26, 'fatness': 0.123, 'pursy': 0.123, 'curb': 0.26, 'woo': 0.123, 'cleft': 0.123, 'worser': 0.123, 'purer': 0.123, 'uncle’s': 0.123, 'monster': 0.123, 'habits': 0.123, 'likewise': 0.123, 'frock': 0.123, 'aptly': 0.123, 'refrain': 0.123, 'easiness': 0.26, 'next': 0.714, 'abstinence': 0.123, 'potency': 0.123, 'desirous': 0.123, 'pointing': 0.123, 'pleas’d': 0.123, 'punish': 0.123, 'scourge': 0.26, 'minister': 0.123, 'bloat': 0.123, 'pinch': 0.123, 'pair': 0.26, 'reechy': 0.123, 'paddling': 0.123, 'ravel': 0.123, 'essentially': 0.123, 'sober': 0.123, 'paddock': 0.123, 'bat': 0.26, 'gib': 0.123, 'concernings': 0.123, 'despite': 0.123, 'unpeg': 0.123, 'basket': 0.26, 'house’s': 0.123, 'birds': 0.123, 'famous': 0.123, 'ape': 0.26, 'conclusions': 0.123, 'creep': 0.123, 'alack': 0.405, 'concluded': 0.123, 'schoolfellows': 0.123, 'adders': 0.123, 'fang’d': 0.123, 'mandate': 0.123, 'marshal': 0.123, 'knavery': 0.26, 'enginer': 0.123, 'hoist': 0.123, 'petard': 0.123, '’t': 0.26, 'delve': 0.123, 'yard': 0.123, 'mines': 0.123, 'crafts': 0.123, 'packing': 0.123, 'lug': 0.123, 'guts': 0.26, 'neighbour': 0.123, 'counsellor': 0.123, 'peating': 0.123, 'dragging': 0.123, 'sighs': 0.123, 'heaves': 0.123, 'contend': 0.123, 'mightier': 0.123, 'rapier': 0.405, '‘a': 0.26, 'brainish': 0.123, 'threats': 0.123, 'everyone': 0.123, 'answer’d': 0.123, 'laid': 0.87, 'providence': 0.26, 'restrain’d': 0.123, 'haunt': 0.123, 'owner': 0.123, 'disease': 0.123, 'divulging': 0.123, 'apart': 0.26, 'ore': 0.123, 'among': 0.123, 'mineral': 0.123, 'metals': 0.123, 'weeps': 0.123, 'mountains': 0.26, 'ship': 0.26, 'excuse': 0.123, '—ho': 0.123, 'aid': 0.123, 'dragg’d': 0.123, 'chapel': 0.26, 'untimely': 0.123, 'diameter': 0.123, 'level': 0.26, 'transports': 0.123, 'poison’d': 0.556, 'miss': 0.123, 'hit': 0.87, 'woundless': 0.123, 'discord': 0.123, 'dismay': 0.123, 'safely': 0.26, 'stowed': 0.123, 'compounded': 0.123, 'besides': 0.123, 'demanded': 0.123, 'sponge—what': 0.123, 'replication': 0.123, 'sponge': 0.26, 'soaks': 0.123, 'authorities': 0.123, 'corner': 0.123, 'jaw': 0.123, 'mouthed': 0.123, 'swallowed': 0.123, 'gleaned': 0.123, 'squeezing': 0.123, 'dry': 0.405, 'thing—': 0.123, 'fox': 0.123, 'lov’d': 0.556, 'multitude': 0.123, 'th’offender’s': 0.123, 'deliberate': 0.123, 'diseases': 0.123, 'appliance': 0.123, 'befall’n': 0.123, 'bestow’d': 0.123, 'guarded': 0.123, 'supper': 0.26, 'eats': 0.26, 'eaten': 0.123, 'convocation': 0.123, 'politic': 0.123, 'worms': 0.123, 'worm': 0.405, 'emperor': 0.123, 'lean': 0.123, '—two': 0.123, 'dishes': 0.123, 'fish': 0.26, 'progress': 0.123, 'messenger': 0.714, 'th’other': 0.123, 'stairs': 0.123, 'especial': 0.123, '—must': 0.123, 'quickness': 0.123, 'bark': 0.123, 'th’associates': 0.123, 'everything': 0.26, 'knew’st': 0.123, 'purposes': 0.405, 'cherub': 0.123, 'sees': 0.123, 'leans': 0.123, 'th’affair': 0.123, 'hold’st': 0.123, 'thereof': 0.123, 'cicatrice': 0.123, 'raw': 0.123, 'awe': 0.26, 'pays': 0.123, 'homage': 0.123, '—thou': 0.123, 'mayst': 0.123, 'conjuring': 0.123, 'hectic': 0.123, 'rages': 0.123, 'cure': 0.123, 'howe’er': 0.123, 'haps': 0.123, 'forces': 0.123, 'marching': 0.123, 'greet': 0.123, 'license': 0.123, 'craves': 0.123, 'conveyance': 0.123, 'promis’d': 0.26, 'rendezvous': 0.123, 'softly': 0.123, 'purpos’d': 0.26, 'poland': 0.405, 'commands': 0.123, 'frontier': 0.123, 'gain': 0.26, 'patch': 0.26, 'yield': 0.26, 'sold': 0.123, 'garrison’d': 0.123, 'debate': 0.123, 'straw': 0.26, 'th’imposthume': 0.123, 'wealth': 0.123, 'will’t': 0.123, 'occasions': 0.26, 'spur': 0.123, 'market': 0.123, 'large': 0.123, 'looking': 0.123, 'capability': 0.123, 'godlike': 0.123, 'fust': 0.123, 'unus’d': 0.123, 'bestial': 0.123, 'oblivion': 0.123, 'craven': 0.123, 'scruple': 0.123, 'precisely': 0.123, 'th’event': 0.123, 'quarter’d': 0.123, 'thing’s': 0.123, 'sith': 0.26, 'examples': 0.123, 'exhort': 0.123, 'army': 0.123, 'led': 0.123, 'delicate': 0.26, 'divine': 0.123, 'invisible': 0.123, 'event': 0.123, 'exposing': 0.123, 'unsure': 0.123, 'eggshell': 0.123, 'rightly': 0.123, 'greatly': 0.123, 'honour’s': 0.123, 'stake': 0.123, 'stain’d': 0.123, 'excitements': 0.123, 'trick': 0.405, 'fame': 0.26, 'beds': 0.123, 'fight': 0.405, 'plot': 0.123, 'tomb': 0.123, 'continent': 0.26, 'importunate': 0.123, 'distract': 0.123, 'mood': 0.123, 'pitied': 0.123, 'tricks': 0.405, 'hems': 0.123, 'beats': 0.123, 'enviously': 0.123, 'straws': 0.26, 'unshaped': 0.123, 'hearers': 0.26, 'collection': 0.26, 'aim': 0.123, 'botch': 0.123, 'winks': 0.123, 'nods': 0.123, 'gestures': 0.123, 'unhappily': 0.123, 'strew': 0.123, 'conjectures': 0.123, 'ill-breeding': 0.123, 'minds': 0.26, 'sin’s': 0.123, 'amiss': 0.26, 'artless': 0.123, 'spills': 0.123, 'fearing': 0.123, 'spilt': 0.123, 'beauteous': 0.123, 'sings': 2.295, 'cockle': 0.123, 'staff': 0.123, 'sandal': 0.123, 'shoon': 0.123, 'song': 0.123, 'turf': 0.123, 'stone': 0.26, 'ophelia—': 0.123, 'shroud': 0.123, 'larded': 0.26, 'bewept': 0.123, 'true-love': 0.123, 'showers': 0.123, 'pretty': 0.26, 'dild': 0.123, 'owl': 0.123, 'baker’s': 0.123, 'ask': 0.26, 'valentine’s': 0.123, 'betime': 0.123, 'window': 0.123, 'valentine': 0.123, 'donn’d': 0.123, 'clothes': 0.26, 'dupp’d': 0.123, 'departed': 0.123, 'la': 0.123, 'gis': 0.123, 'charity': 0.123, 'quoth': 0.123, 'tumbled': 0.123, 'ha’': 0.405, 'coach': 0.123, 'springs': 0.123, 'sorrows': 0.123, 'spies': 0.123, 'battalions': 0.123, 'people': 0.123, 'muddied': 0.123, 'unwholesome': 0.123, 'whispers': 0.123, 'polonius’': 0.123, 'greenly': 0.123, 'hugger-mugger': 0.123, 'inter': 0.123, 'divided': 0.123, 'pictures': 0.123, 'beasts': 0.26, 'containing': 0.123, 'feeds': 0.123, 'buzzers': 0.123, 'infect': 0.123, 'speeches': 0.123, 'necessity': 0.123, 'beggar’d': 0.123, 'arraign': 0.123, 'murdering': 0.123, 'places': 0.123, 'superfluous': 0.123, 'switzers': 0.123, 'ocean': 0.123, 'overpeering': 0.123, 'flats': 0.123, 'impetuous': 0.123, 'riotous': 0.123, 'o’erbears': 0.123, 'offices': 0.123, 'rabble': 0.123, 'antiquity': 0.123, 'ratifiers': 0.123, 'props': 0.123, '‘choose': 0.123, 'caps': 0.123, 'tongues': 0.405, 'applaud': 0.123, '‘laertes': 0.123, 'counter': 0.123, 'dogs': 0.123, 'broke': 0.26, 'danes': 0.556, 'following': 0.26, '—sirs': 0.123, 'retire': 0.123, 'calmly': 0.123, 'drop': 0.123, 'calm': 0.26, 'bastard': 0.123, 'cuckold': 0.123, 'brands': 0.123, 'harlot': 0.123, 'unsmirched': 0.123, 'rebellion': 0.123, 'giant-like': 0.123, 'divinity': 0.26, 'hedge': 0.123, 'acts': 0.26, '—tell': 0.123, 'incens’d': 0.26, '—let': 0.26, 'fill': 0.123, 'juggled': 0.123, 'allegiance': 0.123, 'blackest': 0.123, 'profoundest': 0.123, 'pit': 0.405, 'damnation': 0.123, 'worlds': 0.123, 'negligence': 0.123, 'throughly': 0.123, 'certainty': 0.123, 'sweepstake': 0.123, 'winner': 0.123, 'loser': 0.123, 'ope': 0.123, 'life-rendering': 0.123, 'pelican': 0.123, 'repast': 0.123, 'guiltless': 0.123, 'sensibly': 0.123, '’pear': 0.123, 'fantastically': 0.123, 'dressed': 0.123, 'seven': 0.123, 'paid': 0.123, 'weight': 0.123, 'beam': 0.123, 'maid’s': 0.123, 'wits': 0.556, 'instance': 0.123, 'bore': 0.556, 'barefac’d': 0.123, 'bier': 0.123, 'hey': 0.26, 'nonny': 0.405, 'rain’d': 0.123, 'dove': 0.26, 'persuade': 0.123, '‘down': 0.123, 'a-down': 0.123, 'a-down-a': 0.123, 'becomes': 0.405, 'steward': 0.123, 'master’s': 0.123, 'nothing’s': 0.123, 'rosemary': 0.123, 'pansies': 0.123, 'document': 0.123, 'fitted': 0.123, 'fennel': 0.123, 'columbines': 0.123, 'rue': 0.26, 'herb': 0.123, 'sundays': 0.123, 'daisy': 0.123, 'violets': 0.26, 'wither’d': 0.123, 'bonny': 0.123, 'robin': 0.123, 'turns': 0.123, 'prettiness': 0.123, 'death-bed': 0.123, 'flaxen': 0.123, 'poll': 0.123, 'moan': 0.123, 'commune': 0.123, 'collateral': 0.123, 'touch’d': 0.123, 'satisfaction': 0.123, 'jointly': 0.123, 'due': 0.123, 'obscure': 0.123, 'burial': 0.714, 'trophy': 0.123, 'hatchment': 0.123, 'rite': 0.123, 'formal': 0.123, 'ostentation': 0.123, 'call’t': 0.123, 'axe': 0.26, 'greeted': 0.123, 'sailor': 0.26, 'and’t': 0.123, 'letter': 0.123, 'th’ambassador': 0.123, '‘horatio': 0.123, 'overlooked': 0.123, 'pirate': 0.123, 'appointment': 0.123, 'chase': 0.123, 'compelled': 0.123, 'valour': 0.123, 'boarded': 0.123, 'got': 0.26, 'clear': 0.123, 'became': 0.123, 'dealt': 0.123, 'thieves': 0.123, 'repair': 0.26, 'knowest': 0.123, 'speedier': 0.123, 'acquittance': 0.123, 'knowing': 0.123, 'pursu’d': 0.123, 'proceeded': 0.123, 'feats': 0.123, 'crimeful': 0.123, 'mainly': 0.123, 'stirr’d': 0.123, 'reasons': 0.26, 'unsinew’d': 0.123, 'she’s': 0.26, 'conjunctive': 0.123, 'moves': 0.26, 'sphere': 0.123, 'public': 0.123, 'gender': 0.123, 'dipping': 0.123, 'turneth': 0.123, 'wood': 0.123, 'gyves': 0.123, 'slightly': 0.26, 'timber’d': 0.123, 'reverted': 0.123, 'aim’d': 0.123, 'driven': 0.123, 'praises': 0.123, 'challenger': 0.123, 'perfections': 0.123, 'shook': 0.123, 'imagine—': 0.123, 'claudio': 0.123, '‘high': 0.123, 'mighty': 0.26, 'naked': 0.123, 'kingly': 0.123, 'thereunto': 0.123, 'recount': 0.123, 'abuse': 0.123, '’naked': 0.123, 'postscript': 0.123, '‘alone': 0.123, 'advise': 0.123, 'warms': 0.123, '‘thus': 0.123, 'diest': 0.123, 'o’errule': 0.123, 'checking': 0.123, 'undertake': 0.26, 'exploit': 0.123, 'ripe': 0.123, 'device': 0.123, 'uncharge': 0.123, 'practice': 0.556, 'devise': 0.123, 'shine': 0.123, 'sum': 0.26, 'envy': 0.26, 'unworthiest': 0.123, 'siege': 0.123, 'riband': 0.123, 'careless': 0.123, 'graveness': 0.123, 'normandy': 0.123, 'i’ve': 0.123, 'serv’d': 0.26, 'horseback': 0.123, 'gallant': 0.123, 'grew': 0.123, 'doing': 0.123, 'incorps’d': 0.123, 'demi-natur’d': 0.123, 'topp’d': 0.123, 'forgery': 0.123, 'shapes': 0.26, 'norman': 0.26, 'lamond': 0.123, 'brooch': 0.123, 'gem': 0.123, 'masterly': 0.123, 'defence': 0.26, '’twould': 0.123, 'match': 0.123, 'scrimers': 0.123, 'swore': 0.123, 'oppos’d': 0.123, 'envenom': 0.123, 'painting': 0.123, 'passages': 0.123, 'qualifies': 0.123, 'spark': 0.123, 'wick': 0.123, 'snuff': 0.123, 'abate': 0.123, 'goodness': 0.26, 'growing': 0.123, 'pleurisy': 0.123, '‘would’': 0.123, 'changes': 0.123, 'abatements': 0.123, 'delays': 0.123, 'accidents': 0.123, '‘should’': 0.123, 'spendthrift': 0.123, 'hurts': 0.123, 'easing': 0.123, 'th’ulcer': 0.123, 'church': 0.26, 'sanctuarize': 0.123, 'bounds': 0.123, 'excellence': 0.405, 'varnish': 0.123, 'frenchman': 0.123, 'wager': 0.87, 'heads': 0.26, 'remiss': 0.123, 'contriving': 0.123, 'peruse': 0.123, 'foils': 0.87, 'unbated': 0.26, 'anoint': 0.123, 'bought': 0.123, 'mountebank': 0.123, 'dip': 0.123, 'knife': 0.123, 'cataplasm': 0.123, 'rare': 0.123, 'simples': 0.123, 'scratch’d': 0.123, 'convenience': 0.123, 'fail': 0.123, 'performance': 0.123, 'assay’d': 0.123, 'project': 0.123, 'cunnings': 0.123, 'bouts': 0.123, 'prepar’d': 0.123, 'chalice': 0.123, 'nonce': 0.123, 'sipping': 0.123, 'chance': 0.26, 'venom’d': 0.123, 'stuck': 0.123, 'tread': 0.123, 'another’s': 0.123, 'heel': 0.26, 'sister’s': 0.123, 'drown’d': 0.714, 'willow': 0.123, 'aslant': 0.123, 'brook': 0.26, 'hoary': 0.123, 'glassy': 0.123, 'stream': 0.123, 'fantastic': 0.123, 'garlands': 0.123, 'crow-flowers': 0.123, 'nettles': 0.123, 'daisies': 0.123, 'purples': 0.123, 'liberal': 0.405, 'shepherds': 0.123, 'grosser': 0.123, 'maids': 0.123, 'pendant': 0.123, 'boughs': 0.123, 'coronet': 0.123, 'clamb’ring': 0.123, 'envious': 0.123, 'sliver': 0.123, 'weedy': 0.123, 'trophies': 0.123, 'weeping': 0.123, 'mermaid-like': 0.123, 'chaunted': 0.123, 'snatches': 0.123, 'tunes': 0.123, 'incapable': 0.123, 'distress': 0.123, 'indued': 0.123, 'element': 0.123, 'garments': 0.123, 'pull’d': 0.123, 'melodious': 0.123, 'muddy': 0.123, 'water': 0.87, 'blaze': 0.123, 'folly': 0.123, 'douts': 0.123, 'spades': 0.123, 'wilfully': 0.123, 'crowner': 0.123, 'sat': 0.26, 'drowned': 0.26, 'se': 0.123, 'offendendo': 0.123, 'wittingly': 0.26, 'argues': 0.123, 'branches': 0.123, 'perform': 0.123, 'argal': 0.405, 'goodman': 0.123, 'delver': 0.123, 'nill': 0.123, '—mark': 0.123, 'drowns': 0.123, 'shortens': 0.123, 'crowner’s': 0.123, 'quest': 0.123, 'gentlewoman': 0.123, 'folk': 0.123, 'spade': 0.556, 'ancient': 0.123, 'gardeners': 0.123, 'ditchers': 0.123, 'grave-makers': 0.123, 'adam’s': 0.123, 'profession': 0.123, 'heathen': 0.123, 'scripture': 0.26, 'adam': 0.123, 'digg’d': 0.123, 'dig': 0.26, 'answerest': 0.123, 'thyself—': 0.123, 'builds': 0.26, 'mason': 0.26, 'shipwright': 0.26, 'carpenter': 0.26, 'gallows-maker': 0.123, 'outlives': 0.123, 'tenants': 0.123, 'gallows': 0.405, 'built': 0.123, 'unyoke': 0.123, 'distance': 0.123, 'cudgel': 0.123, 'mend': 0.123, 'asked': 0.123, 'grave-maker’': 0.123, 'houses': 0.123, 'yaughan': 0.123, 'stoup': 0.123, 'liquor': 0.26, 'digs': 0.123, 'contract': 0.123, 'behove': 0.123, 'grave-making': 0.123, 'employment': 0.26, 'daintier': 0.123, 'stealing': 0.123, 'steps': 0.123, 'claw’d': 0.123, 'clutch': 0.123, 'shipp’d': 0.123, 'throws': 0.405, 'skull': 1.562, 'jowls': 0.123, 'cain’s': 0.123, 'jawbone': 0.123, 'politician': 0.123, 'o’er-offices': 0.123, 'circumvent': 0.123, 'morrow': 0.123, 'such-a-one': 0.123, 'praised': 0.123, 'such-a-one’s': 0.123, 'worm’s': 0.123, 'chapless': 0.123, 'knocked': 0.123, 'mazard': 0.123, 'sexton’s': 0.123, 'revolution': 0.123, 'see’t': 0.123, 'breeding': 0.123, 'loggets': 0.123, 'ache': 0.123, 'pickaxe': 0.123, 'shrouding-sheet': 0.123, 'clay': 0.405, 'guest': 0.26, 'lawyer': 0.123, 'quiddits': 0.123, 'quillets': 0.123, 'cases': 0.123, 'tenures': 0.123, 'knock': 0.123, 'sconce': 0.123, 'dirty': 0.123, 'shovel': 0.123, 'battery': 0.123, 'hum': 0.123, 'buyer': 0.123, 'statutes': 0.123, 'recognizances': 0.123, 'fines': 0.26, 'vouchers': 0.26, 'recoveries': 0.26, 'recovery': 0.123, 'dirt': 0.26, 'vouch': 0.123, 'purchases': 0.123, 'breadth': 0.123, 'indentures': 0.123, 'conveyances': 0.123, 'box': 0.123, 'inheritor': 0.123, 'jot': 0.26, 'parchment': 0.123, 'sheep-skins': 0.123, 'calf-skins': 0.123, 'sheep': 0.123, 'calves': 0.123, '—whose': 0.123, 'grave’s': 0.123, 'liest': 0.405, 'absolute': 0.26, 'card': 0.26, 'equivocation': 0.123, 'undo': 0.123, 'years': 0.405, 'kibe': 0.123, '—how': 0.123, 'grave-maker': 0.123, 'o’ercame': 0.123, '—he': 0.26, 'because': 0.123, 'strangely': 0.26, 'losing': 0.123, 'sexton': 0.123, 'rot': 0.123, 'pocky': 0.123, 'corses': 0.123, 'nowadays': 0.123, 'eight': 0.123, 'nine': 0.405, 'tanner': 0.123, 'tann’d': 0.123, 'decayer': 0.123, 'whoreson': 0.26, 'lain': 0.123, 'three-and-twenty': 0.123, 'fellow’s': 0.123, 'pestilence': 0.123, 'pour’d': 0.123, 'flagon': 0.123, 'yorick’s': 0.123, 'jester': 0.123, 'yorick': 0.123, 'abhorred': 0.123, 'gorge': 0.123, 'hung': 0.123, 'kiss’d': 0.123, 'gibes': 0.123, 'gambols': 0.123, 'flashes': 0.123, 'merriment': 0.123, 'grinning': 0.123, 'chop-fallen': 0.123, 'lady’s': 0.123, 'paint': 0.123, 'inch': 0.123, 'alexander': 0.714, 'looked': 0.123, 'smelt': 0.123, 'pah': 0.123, 'trace': 0.26, 'stopping': 0.123, 'bung-hole': 0.123, 'consider': 0.26, 'curiously': 0.123, 'likelihood': 0.123, 'returneth': 0.123, 'loam': 0.26, 'converted': 0.123, 'beer-barrel': 0.123, 'imperious': 0.123, 'hole': 0.123, 'wall': 0.123, 't’expel': 0.123, 'winter’s': 0.123, 'flaw': 0.123, 'priests': 0.123, 'procession': 0.123, 'corpse': 0.123, 'mourners': 0.123, 'courtiers': 0.123, 'maimed': 0.123, 'rites': 0.405, 'betoken': 0.123, 'fordo': 0.123, 'retiring': 0.123, 'obsequies': 0.123, 'enlarg’d': 0.123, 'warranties': 0.123, 'o’ersways': 0.123, 'unsanctified': 0.123, 'lodg’d': 0.123, 'shards': 0.123, 'flints': 0.123, 'pebbles': 0.123, 'thrown': 0.26, 'allowed': 0.123, 'virgin': 0.123, 'strewments': 0.123, 'bringing': 0.123, 'profane': 0.123, 'sage': 0.123, 'requiem': 0.123, 'peace-parted': 0.123, 'unpolluted': 0.123, 'churlish': 0.123, 'minist’ring': 0.123, 'howling': 0.123, 'scattering': 0.123, 'sweets': 0.123, 'hop’d': 0.123, 'bride-bed': 0.123, 'deck’d': 0.123, 'strew’d': 0.123, 'treble': 0.26, 'ingenious': 0.123, 'depriv’d': 0.123, 'leaps': 0.26, 'pile': 0.123, 'o’ertop': 0.123, 'pelion': 0.123, 'skyish': 0.123, 'blue': 0.123, 'olympus': 0.123, 'advancing': 0.123, 'emphasis': 0.123, 'conjures': 0.123, 'wand’ring': 0.123, 'wonder-wounded': 0.123, 'grappling': 0.123, 'pray’st': 0.123, 'splenative': 0.123, 'wiseness': 0.123, 'asunder': 0.123, 'until': 0.123, 'eyelids': 0.123, 'forbear': 0.123, 'thou’lt': 0.26, 'woul’t': 0.714, 'eisel': 0.123, 'crocodile': 0.123, 'whine': 0.123, 'outface': 0.123, 'leaping': 0.123, 'prate': 0.123, 'millions': 0.123, 'acres': 0.123, 'singeing': 0.123, 'zone': 0.123, 'ossa': 0.123, 'wart': 0.123, 'rant': 0.123, 'female': 0.123, 'couplets': 0.123, 'drooping': 0.123, 'cat': 0.123, 'mew': 0.123, 'strengthen': 0.123, 'night’s': 0.123, 'push': 0.123, 'monument': 0.123, 'proceeding': 0.123, 'mutinies': 0.123, 'bilboes': 0.123, 'rashly': 0.123, 'prais’d': 0.123, 'rashness': 0.123, 'indiscretion': 0.123, 'plots': 0.26, 'pall': 0.123, 'rough-hew': 0.123, 'cabin': 0.123, 'sea-gown': 0.123, 'scarf’d': 0.123, 'dark': 0.123, 'grop’d': 0.123, 'finger’d': 0.123, 'packet': 0.123, 'withdrew': 0.123, 'forgetting': 0.123, 'unseal': 0.123, 'grand': 0.123, 'exact': 0.123, 'several': 0.123, 'sorts': 0.123, 'england’s': 0.123, 'bugs': 0.123, 'goblins': 0.123, 'supervise': 0.123, 'bated': 0.123, 'grinding': 0.123, 'benetted': 0.123, 'villanies': 0.123, 'devis’d': 0.123, 'wrote': 0.26, 'statists': 0.123, 'baseness': 0.123, 'write': 0.123, 'labour’d': 0.123, 'learning': 0.123, 'yeoman’s': 0.123, 'earnest': 0.123, 'conjuration': 0.123, 'tributary': 0.123, 'wheaten': 0.123, 'garland': 0.123, 'comma': 0.123, '’tween': 0.123, 'amities': 0.123, 'such-like': 0.123, '‘as’es': 0.123, 'view': 0.26, 'debatement': 0.123, 'shriving-time': 0.123, 'allow’d': 0.123, 'ordinant': 0.123, 'signet': 0.123, 'model': 0.123, 'folded': 0.123, 'subscrib’d': 0.123, 'gave’t': 0.123, 'th’impression': 0.123, 'changeling': 0.123, 'sea-fight': 0.123, 'sequent': 0.123, 'insinuation': 0.123, 'incensed': 0.123, 'opposites': 0.123, 'thinks’t': 0.123, 'whor’d': 0.123, 'popp’d': 0.123, 'th’election': 0.26, 'hopes': 0.123, 'angle': 0.123, 'cozenage—is’t': 0.123, 'perfect': 0.123, 'quit': 0.26, 'interim': 0.123, 'life’s': 0.123, '‘one’': 0.123, 'portraiture': 0.123, 'bravery': 0.123, 'tow’ring': 0.123, 'waterfly': 0.123, 'fertile': 0.123, 'crib': 0.123, 'mess': 0.123, 'chough': 0.123, 'spacious': 0.123, 'possession': 0.123, 'diligence': 0.123, 'bonnet': 0.123, 'northerly': 0.123, 'sultry': 0.26, 'exceedingly': 0.123, '’twere—i': 0.123, 'bade': 0.123, 'newly': 0.123, 'differences': 0.123, 'society': 0.123, 'showing': 0.123, 'feelingly': 0.123, 'calendar': 0.123, 'definement': 0.123, 'perdition': 0.123, 'inventorially': 0.123, 'dizzy': 0.123, 'th’arithmetic': 0.123, 'yaw': 0.123, 'verity': 0.123, 'extolment': 0.123, 'infusion': 0.123, 'dearth': 0.123, 'rareness': 0.123, 'diction': 0.123, 'semblable': 0.123, 'umbrage': 0.123, 'infallibly': 0.123, 'concernancy': 0.123, 'wrap': 0.123, 'rawer': 0.123, 'really': 0.123, 'nomination': 0.123, 'empty': 0.123, 'all’s': 0.26, 'spent': 0.123, 'compare': 0.123, 'weapon': 0.26, 'imputation': 0.123, 'meed': 0.123, 'unfellowed': 0.123, 'dagger': 0.123, 'weapons': 0.123, 'wager’d': 0.123, 'six': 0.556, 'barbary': 0.26, 'horses': 0.26, 'imponed': 0.26, 'poniards': 0.123, 'assigns': 0.26, 'girdle': 0.123, 'hangers': 0.405, 'carriages': 0.714, 'responsive': 0.123, 'hilts': 0.123, 'edified': 0.123, 'margin': 0.123, 'german': 0.123, 'swords': 0.123, 'conceited': 0.123, 'bet': 0.123, 'passes': 0.123, 'exceed': 0.123, 'trial': 0.405, 'win': 0.405, 'lapwing': 0.123, 'shell': 0.123, 'dug': 0.123, 'bevy': 0.123, 'drossy': 0.123, 'dotes': 0.123, 'yeasty': 0.123, 'carries': 0.123, 'fanned': 0.123, 'winnowed': 0.123, 'bubbles': 0.123, 'commended': 0.123, 'brings': 0.123, 'attend': 0.123, 'constant': 0.123, 'fitness': 0.123, 'whensoever': 0.123, 'provided': 0.123, 'able': 0.123, 'instructs': 0.123, 'continual': 0.123, 'odds': 0.405, 'foolery': 0.123, 'gain-giving': 0.123, 'dislike': 0.123, 'forestall': 0.123, 'whit': 0.123, 'defy': 0.123, 'augury': 0.123, 'sparrow': 0.123, 'readiness': 0.123, 'betimes': 0.123, 'pardon’t': 0.123, 'punish’d': 0.123, 'exception': 0.123, 'wrong’d': 0.26, 'denies': 0.123, 'faction': 0.123, 'disclaiming': 0.123, 'arrow': 0.123, 'hurt': 0.26, 'satisfied': 0.123, 'case': 0.123, 'reconcilement': 0.123, 'elder': 0.123, 'ungor’d': 0.123, 'offer’d': 0.123, 'embrace': 0.26, 'darkest': 0.123, 'weaker': 0.123, 'better’d': 0.123, 'stoups': 0.123, 'wine': 0.123, 'exchange': 0.26, 'battlements': 0.123, 'cup': 0.556, 'union': 0.26, 'successive': 0.123, 'worn': 0.123, 'cups': 0.123, 'kettle': 0.123, 'cannoneer': 0.123, 'cannons': 0.123, '‘now': 0.123, 'judges': 0.123, 'palpable': 0.123, 'pearl': 0.123, 'bout': 0.123, 'scant': 0.123, 'napkin': 0.123, 'brows': 0.123, 'carouses': 0.123, 'think’t': 0.123, 'dally': 0.123, 'afeard': 0.123, 'wounds': 0.26, 'scuffling': 0.123, 'bleed': 0.26, 'woodcock': 0.123, 'springe': 0.123, 'treachery': 0.26, 'swoons': 0.123, 'villany': 0.123, 'medicine': 0.123, 'envenom’d': 0.26, 'stabs': 0.123, 'murderous': 0.123, 'potion': 0.123, 'temper’d': 0.123, 'forgiveness': 0.123, 'sergeant': 0.123, 'arrest': 0.123, '—o': 0.123, 'liv’st': 0.123, 'aright': 0.123, 'unsatisfied': 0.123, 'th’art': 0.123, 'have’t': 0.123, 'wounded': 0.123, 'standing': 0.123, 'absent': 0.123, 'felicity': 0.123, 'pain': 0.123, 'afar': 0.123, 'conquest': 0.123, 'volley': 0.123, 'o’er-crows': 0.123, 'dying': 0.123, 'occurrents': 0.123, 'solicited': 0.123, 'cracks': 0.123, 'flights': 0.123, 'drum': 0.123, 'search': 0.123, 'quarry': 0.123, 'havoc': 0.123, 'cell': 0.123, 'princes': 0.123, 'bloodily': 0.123, 'ambassador': 0.123, 'affairs': 0.123, 'fulfill’d': 0.123, 'th’ability': 0.123, 'arriv’d': 0.123, 'placed': 0.123, 'unknowing': 0.123, 'carnal': 0.123, 'accidental': 0.123, 'casual': 0.123, 'slaughters': 0.123, 'deaths': 0.123, 'upshot': 0.123, 'mistook': 0.123, 'inventors’': 0.123, 'noblest': 0.123, 'claim': 0.123, 'invite': 0.123, 'also': 0.123, 'errors': 0.123, 'happen': 0.123, 'captains': 0.123, 'royally': 0.123, 'soldiers’': 0.123, 'loudly': 0.123, 'field': 0.123, 'shoot': 0.123, 'bearing': 0.123, 'peal': 0.123}\n"
     ]
    }
   ],
   "source": [
    "'''For TF-IDF afterwards it's going to be a little weak \n",
    "because TF in our case is count in the whole document and IDF is line count'''\n",
    "def book_TF(doc):\n",
    "    book = open(doc , 'r')\n",
    "    book_tf = {}\n",
    "    \n",
    "    with open('./data/hamlet.txt','r', encoding='utf-8-sig') as buffer:\n",
    "        data = buffer.read()\n",
    "\n",
    "    #Splitting words\n",
    "    all_words = re.split('[ ,.?!;:_\\n]', data.lower())\n",
    "    \n",
    "    for word in all_words:\n",
    "        if word in book_tf:\n",
    "            book_tf[word] += 1\n",
    "        else:\n",
    "            book_tf[word] = 1\n",
    "    \n",
    "    return book_tf    \n",
    "\n",
    "\n",
    "def book_IDF(doc):\n",
    "    book = open(doc, 'r', encoding='utf-8-sig')\n",
    "    book_idf = []\n",
    "    \n",
    "    for line in book.readlines():\n",
    "        #print(f\"line=> {line}\")\n",
    "        words = re.split('[ ,.?!;:_\\n]', line.lower())\n",
    "        book_idf.append(words)\n",
    "    \n",
    "    book.close()\n",
    "    return IDF(book_idf)\n",
    "\n",
    "def TF_by_IDF(doc):\n",
    "    tfs = book_TF(doc)\n",
    "    idfs = book_IDF(doc)\n",
    "    tf_idf = {}\n",
    "    \n",
    "    for word in tfs:\n",
    "        if word not in tf_idf:\n",
    "            tf_idf[word] = round(tfs[word]/idfs[word],3)\n",
    "    \n",
    "    return tf_idf\n",
    "\n",
    "def max_key(d):\n",
    "    cur_max = 0\n",
    "    max_name = None\n",
    "    for key in d:\n",
    "        if d[key] > cur_max:\n",
    "            cur_max = d[key]\n",
    "            max_name = key\n",
    "    return (max_name,cur_max)\n",
    "\n",
    "result = TF_by_IDF('./data/hamlet.txt')\n",
    "print(f\"1. Hamlet TF/IDF = {result['hamlet']}\\n\")\n",
    "print(f\"2. Highest TF/IDF = {max_key(result)}\\n\")\n",
    "print(f\"3. Entire TF/IDF = {result}\")"
   ]
  },
  {
   "cell_type": "markdown",
   "metadata": {},
   "source": [
    "# Stretch Goal: Speaker count\n",
    "\n",
    "Use a regular expression and looping over the `hamlet.txt` file to build a dictionary `character_name -> # times speaking`.\n",
    "\n",
    "Who speaks the most often? Who speaks the least often?"
   ]
  },
  {
   "cell_type": "code",
   "execution_count": 11,
   "metadata": {},
   "outputs": [
    {
     "name": "stdout",
     "output_type": "stream",
     "text": [
      "None\n"
     ]
    }
   ],
   "source": [
    "# Regex Test\n",
    "# Might be space or hyphen between names os those are allowed\n",
    "pattern = '\\n[A-Z -]+\\.[ ]*\\n'\n",
    "\n",
    "res = re.search(pattern, '\\nHAMLET\\n')\n",
    "if res:\n",
    "    print(res.string)\n",
    "else:\n",
    "    print(res)"
   ]
  },
  {
   "cell_type": "code",
   "execution_count": 12,
   "metadata": {},
   "outputs": [
    {
     "data": {
      "text/plain": [
       "{'BARNARDO': 18,\n",
       " 'FRANCISCO': 8,\n",
       " 'HORATIO': 107,\n",
       " 'MARCELLUS': 31,\n",
       " 'KING': 102,\n",
       " 'LAERTES': 62,\n",
       " 'POLONIUS': 86,\n",
       " 'HAMLET': 358,\n",
       " 'QUEEN': 69,\n",
       " 'BOTH': 1,\n",
       " 'ALL': 1,\n",
       " 'OPHELIA': 58,\n",
       " 'GHOST': 14,\n",
       " 'REYNALDO': 13,\n",
       " 'ROSENCRANTZ': 45,\n",
       " 'GUILDENSTERN': 29,\n",
       " 'VOLTEMAND': 1,\n",
       " 'FIRST PLAYER': 8,\n",
       " 'PROLOGUE': 1,\n",
       " 'PLAYER KING': 4,\n",
       " 'PLAYER QUEEN': 5,\n",
       " 'LUCIANUS': 1,\n",
       " 'FORTINBRAS': 6,\n",
       " 'CAPTAIN': 7,\n",
       " 'GENTLEMAN': 3,\n",
       " 'DANES': 2,\n",
       " 'SERVANT': 1,\n",
       " 'FIRST SAILOR': 2,\n",
       " 'MESSENGER': 2,\n",
       " 'FIRST CLOWN': 33,\n",
       " 'SECOND CLOWN': 12,\n",
       " 'PRIEST': 2,\n",
       " 'OSRIC': 25,\n",
       " 'LORD': 3,\n",
       " 'FIRST AMBASSADOR': 1}"
      ]
     },
     "execution_count": 12,
     "metadata": {},
     "output_type": "execute_result"
    }
   ],
   "source": [
    "def dialogue_count(doc):\n",
    "    pattern = '\\n[A-Z -]+\\.[ ]*\\n'\n",
    "    actors = None\n",
    "    dialogues = {}\n",
    "    with open(doc, 'r', encoding='utf-8-sig') as buffer:\n",
    "        actors = re.findall(pattern, buffer.read())\n",
    "        #print(res)\n",
    "        \n",
    "    for actor in actors:\n",
    "        actor = actor.replace('\\n','')\n",
    "        actor = actor.replace('.','')\n",
    "        if actor in dialogues:\n",
    "            dialogues[actor] +=1\n",
    "        else:\n",
    "            dialogues[actor] = 1\n",
    "    \n",
    "    return dialogues\n",
    "   \n",
    "dialogue_count('./data/hamlet.txt')"
   ]
  },
  {
   "cell_type": "markdown",
   "metadata": {},
   "source": [
    "From list\n",
    "1. Hamlet speaks most often\n",
    "2. There are a lot of actors who speak the least, once who only have 1 line"
   ]
  },
  {
   "cell_type": "code",
   "execution_count": null,
   "metadata": {},
   "outputs": [],
   "source": []
  }
 ],
 "metadata": {
  "colab": {
   "authorship_tag": "ABX9TyPMuPsz+efoYpJzg8ElS0Ut",
   "collapsed_sections": [],
   "name": "Workshop Python Intro.ipynb",
   "provenance": []
  },
  "kernelspec": {
   "display_name": "Python 3",
   "language": "python",
   "name": "python3"
  },
  "language_info": {
   "codemirror_mode": {
    "name": "ipython",
    "version": 3
   },
   "file_extension": ".py",
   "mimetype": "text/x-python",
   "name": "python",
   "nbconvert_exporter": "python",
   "pygments_lexer": "ipython3",
   "version": "3.8.3"
  }
 },
 "nbformat": 4,
 "nbformat_minor": 1
}
