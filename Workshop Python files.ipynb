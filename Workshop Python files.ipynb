{
 "cells": [
  {
   "cell_type": "markdown",
   "metadata": {},
   "source": [
    "## Name: Sadnan Saquif\n",
    "## Handle: SSaquif"
   ]
  },
  {
   "cell_type": "markdown",
   "metadata": {},
   "source": [
    "# Safe dict reading\n",
    "\n",
    "define a function `safe_dict(d, k)` that takes in a python dict `d` and a key `k` and makes it safe to read even with keys that aren't in the dictionary. If you try to read from the dictionary with a bad key, it should return 0 instead.\n",
    "\n",
    "```\n",
    "d = {1 : 2, 3 : 4}\n",
    "safe_dict(d, 1) -> 2\n",
    "safe_dict(d, 'cat') -> 0\n",
    "```"
   ]
  },
  {
   "cell_type": "code",
   "execution_count": 1,
   "metadata": {},
   "outputs": [
    {
     "name": "stdout",
     "output_type": "stream",
     "text": [
      "2\n",
      "0\n"
     ]
    }
   ],
   "source": [
    "safe_dict = lambda d, key: d[key] if key in d else 0\n",
    "\n",
    "d = {1 : 2, 3 : 4}\n",
    "\n",
    "print(safe_dict(d, 1))\n",
    "print(safe_dict(d, 'cat'))"
   ]
  },
  {
   "cell_type": "markdown",
   "metadata": {
    "colab": {},
    "colab_type": "code",
    "id": "tl_ZhkbEtiTD"
   },
   "source": [
    "# File Reading: Hamlet Exercises\n",
    "\n",
    "Open `hamlet.txt` in the `data` folder\n",
    "\n",
    "### 1. Mentionned Hamlet\n",
    "\n",
    "How many times is hamlet mentioned in the book?\n",
    "\n",
    "Use python and line iteration to count it up"
   ]
  },
  {
   "cell_type": "code",
   "execution_count": 2,
   "metadata": {},
   "outputs": [
    {
     "name": "stdout",
     "output_type": "stream",
     "text": [
      "True\n"
     ]
    },
    {
     "data": {
      "text/plain": [
       "474"
      ]
     },
     "execution_count": 2,
     "metadata": {},
     "output_type": "execute_result"
    }
   ],
   "source": [
    "def hamlets_in_file(file):\n",
    "    # Using with will close the file once it reaches EOF\n",
    "    with open(file, 'r') as buffer:\n",
    "        data = buffer.read()\n",
    "    \n",
    "    # Checking if file is closed    \n",
    "    print(buffer.closed)\n",
    "    hamlet_count = data.lower().count(\"hamlet\")\n",
    "    return hamlet_count\n",
    "\n",
    "hamlets_in_file('./data/hamlet.txt')"
   ]
  },
  {
   "cell_type": "markdown",
   "metadata": {},
   "source": [
    "### 2. File Reading as a .py program\n",
    "\n",
    "Make a python file that defines a function that counts the number of times hamlet is mentionned using the code in the previous exercise.\n",
    "\n",
    "Then import it in your notebook and call it here."
   ]
  },
  {
   "cell_type": "code",
   "execution_count": 3,
   "metadata": {},
   "outputs": [],
   "source": [
    "# Using file.write()\n",
    "def create_py_file(file):\n",
    "    # 'w' overwites existing content \n",
    "    with open(file, 'w') as buffer:\n",
    "        buffer.write(\n",
    "\"\"\"\n",
    "def hamlets_in_file(file):\n",
    "    with open(file, 'r') as buffer:\n",
    "        data = buffer.read()\n",
    "\n",
    "    return data.lower().count(\"hamlet\")\n",
    "\"\"\"\n",
    "        )\n",
    "\n",
    "# dont want to run again since the file exists\n",
    "create_py_file('./hamlet_count.py')"
   ]
  },
  {
   "cell_type": "code",
   "execution_count": 4,
   "metadata": {},
   "outputs": [
    {
     "data": {
      "text/plain": [
       "474"
      ]
     },
     "execution_count": 4,
     "metadata": {},
     "output_type": "execute_result"
    }
   ],
   "source": [
    "from hamlet_count import hamlets_in_file\n",
    "\n",
    "hamlets_in_file('./data/hamlet.txt')"
   ]
  },
  {
   "cell_type": "markdown",
   "metadata": {},
   "source": [
    "### 3. Unique words in hamlet\n",
    "\n",
    "Write a program that counts the unique words in hamlet."
   ]
  },
  {
   "cell_type": "code",
   "execution_count": 5,
   "metadata": {},
   "outputs": [
    {
     "data": {
      "text/plain": [
       "5378"
      ]
     },
     "execution_count": 5,
     "metadata": {},
     "output_type": "execute_result"
    }
   ],
   "source": [
    "# l1 = [1,2,3,4,5,6,1]\n",
    "# s1 = len(set(l1))\n",
    "# print(s1)\n",
    "import re\n",
    "\n",
    "def unique_words():\n",
    "    with open('./data/hamlet.txt','r') as buffer:\n",
    "        data = buffer.read()\n",
    "\n",
    "    #splitting on space, comma, period, question mark and newline\n",
    "    words = re.split('[ ,.?\\n]', data.lower())\n",
    "    # print(words)\n",
    "    \n",
    "    unique_words = len(set(words))\n",
    "    return unique_words\n",
    "\n",
    "unique_words()"
   ]
  },
  {
   "cell_type": "markdown",
   "metadata": {},
   "source": [
    "# File Reading 2: A Python library.\n",
    "\n",
    "In the `data` folder, you will find a folder called `csrgraph` which is a python library.\n",
    "\n",
    "### 1. File count\n",
    "\n",
    "Count the `py` files in the library using the `os` package"
   ]
  },
  {
   "cell_type": "code",
   "execution_count": 6,
   "metadata": {},
   "outputs": [
    {
     "name": "stdout",
     "output_type": "stream",
     "text": [
      "8\n"
     ]
    }
   ],
   "source": [
    "import os\n",
    "\n",
    "def pyfiles(directory):\n",
    "    file_list = os.listdir(directory)\n",
    "    py_files = []\n",
    "    count = 0\n",
    "    for file in file_list:\n",
    "        if file.endswith('.py'):\n",
    "            py_files.append(file)\n",
    "    return py_files\n",
    "\n",
    "file_list = pyfiles('./data/csrgraph/')\n",
    "print(len(file_list))"
   ]
  },
  {
   "cell_type": "markdown",
   "metadata": {},
   "source": [
    "### 2. For the following packages, count the number of files that import them:\n",
    "\n",
    "- pandas \n",
    "\n",
    "- numpy\n",
    "\n",
    "- numba"
   ]
  },
  {
   "cell_type": "code",
   "execution_count": 9,
   "metadata": {},
   "outputs": [
    {
     "name": "stdout",
     "output_type": "stream",
     "text": [
      "Pattern 1 <re.Match object; span=(0, 15), match='import   numpy\\n'>\n",
      "Pattern 2 <re.Match object; span=(0, 21), match='import numpy as n_p \\n'>\n",
      "Pattern 3 <re.Match object; span=(0, 26), match='from numpy import number \\n'>\n"
     ]
    }
   ],
   "source": [
    "# Regex Testing\n",
    "module = \"numpy\"\n",
    "inp_1 = 'import   numpy\\n'\n",
    "\n",
    "inp_2 = 'import numpy as n_p \\n'\n",
    "\n",
    "inp_3 = 'from numpy import number \\n'\n",
    "\n",
    "# [ ]+ = 1 or more space\n",
    "# [ ]* = 0 or more space\n",
    "pattern_1 = f\"(import)[ ]+({module})[ ]*\\n\"\n",
    "pattern_2 = f\"(import)[ ]+({module} as)[ ]+[a-zA-Z0-9_]+[ ]*\\n\"\n",
    "pattern_3 = f\"(from)[ ]+({module} import)[ ]+[a-zA-Z0-9_*]+[ ]*\\n\"\n",
    "\n",
    "print(f\"Pattern 1 {re.search(pattern_1,inp_1)}\")\n",
    "print(f\"Pattern 2 {re.search(pattern_2,inp_2)}\")\n",
    "print(f\"Pattern 3 {re.search(pattern_3,inp_3)}\")\n",
    "\n",
    "# print(pattern_1)\n",
    "# print(inp1)"
   ]
  },
  {
   "cell_type": "code",
   "execution_count": 10,
   "metadata": {},
   "outputs": [
    {
     "name": "stdout",
     "output_type": "stream",
     "text": [
      "pandas: 4\n",
      "numpy: 6\n",
      "numba: 6\n"
     ]
    }
   ],
   "source": [
    "def used_in_files(directory, module):\n",
    "    # Just check the python files in directory\n",
    "    py_files = pyfiles(directory)\n",
    "    \n",
    "    used = 0\n",
    "        \n",
    "    for file in py_files:\n",
    "        \n",
    "        pattern_1 = f\"(import)[ ]+({module})[ ]*\\n\"\n",
    "        pattern_2 = f\"(import)[ ]+({module} as)[ ]+[a-zA-Z0-9_]+[ ]*\\n\"\n",
    "        pattern_3 = f\"(from)[ ]+({module} import)[ ]+[a-zA-Z0-9_*]+[ ]*\\n\"\n",
    "        \n",
    "        with open(f\"{directory}/{file}\", 'r') as buffer:\n",
    "            data = buffer.read()\n",
    "            re_1 = re.search(pattern_1, data)\n",
    "            re_2 = re.search(pattern_2, data)\n",
    "            re_3 = re.search(pattern_3, data)\n",
    "\n",
    "            if  re_1 or re_2 or re_3:\n",
    "                used += 1\n",
    "                \n",
    "    return used\n",
    "    \n",
    "print(f\"pandas: {used_in_files('./data/csrgraph/', 'pandas')}\")\n",
    "print(f\"numpy: {used_in_files('./data/csrgraph/', 'numpy')}\")\n",
    "print(f\"numba: {used_in_files('./data/csrgraph/', 'numba')}\")"
   ]
  },
  {
   "cell_type": "markdown",
   "metadata": {},
   "source": [
    "# First NLP Program: IDF\n",
    "\n",
    "Given a list of words, the the inverse document frequency (IDF) is a basic statistic of the amount of information of each word in the text.\n",
    "\n",
    "The IDF formulat is:\n",
    "\n",
    "$$IDF(w) = ln(\\dfrac{N}{1 + n(w)})$$\n",
    "\n",
    "Where:\n",
    "\n",
    "- $w$ is the token (unique word),\n",
    "- $n(w)$ is the number of documents that $w$ occurs in,\n",
    "- $N$ is the total number of documents\n",
    "\n",
    "Write a function, `idf(docs)` that takes in a list of lists of words and returns a dictionary  `word -> idf score`\n",
    "\n",
    "Example:\n",
    "\n",
    "```\n",
    "IDF([['interview', 'questions'], ['interview', 'answers']]) -> {'questions': 0.0, \n",
    "                                                                'interview': -0.4, \n",
    "                                                                'answers': 0.0}\n",
    "\n",
    "\n",
    "```"
   ]
  },
  {
   "cell_type": "markdown",
   "metadata": {
    "colab": {},
    "colab_type": "code",
    "id": "82bfnc_KueoX"
   },
   "source": [
    "# Stretch Goal: TF-IDF on Hamlet\n",
    "\n",
    "The TF-IDF score is a commonly used statistic for the importance of words. Its $\\frac{TF}{IDF}$ where TF is the \"term frequency\" (eg. how often the words happens in the document).\n",
    "\n",
    "Calculate the TF-IDF dictionary on the Hamlet book.\n",
    "\n",
    "What's the TF-IDF of \"Hamlet\"?\n",
    "\n",
    "What's the word with the highest TF-IDF in the book?"
   ]
  },
  {
   "cell_type": "markdown",
   "metadata": {},
   "source": [
    "# Stretch Goal: Speaker count\n",
    "\n",
    "Use a regular expression and looping over the `hamlet.txt` file to build a dictionary `character_name -> # times speaking`.\n",
    "\n",
    "Who speaks the most often? Who speaks the least often?"
   ]
  },
  {
   "cell_type": "code",
   "execution_count": null,
   "metadata": {},
   "outputs": [],
   "source": []
  }
 ],
 "metadata": {
  "colab": {
   "authorship_tag": "ABX9TyPMuPsz+efoYpJzg8ElS0Ut",
   "collapsed_sections": [],
   "name": "Workshop Python Intro.ipynb",
   "provenance": []
  },
  "kernelspec": {
   "display_name": "Python 3",
   "language": "python",
   "name": "python3"
  },
  "language_info": {
   "codemirror_mode": {
    "name": "ipython",
    "version": 3
   },
   "file_extension": ".py",
   "mimetype": "text/x-python",
   "name": "python",
   "nbconvert_exporter": "python",
   "pygments_lexer": "ipython3",
   "version": "3.8.3"
  }
 },
 "nbformat": 4,
 "nbformat_minor": 1
}
